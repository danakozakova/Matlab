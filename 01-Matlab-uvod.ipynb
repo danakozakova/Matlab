{
 "cells": [
  {
   "cell_type": "markdown",
   "id": "5c2f36cb-1ea2-498c-9e35-94e26b1469d3",
   "metadata": {},
   "source": [
    "# Vítejte v programovacím jazyku\n",
    "\n",
    "<img src=\"https://1000logos.net/wp-content/uploads/2021/04/MATLAB-logo.png\" width = 500/>"
   ]
  },
  {
   "cell_type": "markdown",
   "id": "101b5970-a47b-41b7-a04b-73c27dbd3e52",
   "metadata": {},
   "source": [
    "# Úvod do programování v MATLABu"
   ]
  },
  {
   "cell_type": "markdown",
   "id": "8cbe6dc9-6d2e-4075-a508-802f3f4e09c6",
   "metadata": {},
   "source": [
    "<div class=\"alert alert-block alert-success\">\n",
    "    \n",
    "**1.** Zobrazte si nápovědu k některým funcím v MATLABu. Využijte funkce **help**, za ní napiště jméno funkce, o níž si chcete zobrazit informace, např. **sin**, **cos**, **who**, **mean**, **max**. \n",
    "\n",
    "</div>"
   ]
  },
  {
   "cell_type": "code",
   "execution_count": 1,
   "id": "b79f8abf-121c-4dff-9672-07452858b389",
   "metadata": {
    "collapsed": true,
    "jupyter": {
     "outputs_hidden": true
    },
    "tags": []
   },
   "outputs": [
    {
     "name": "stdout",
     "output_type": "stream",
     "text": [
      " SIN    Sine of argument in radians.\n",
      "    SIN(X) is the sine of the elements of X.\n",
      " \n",
      "    See also ASIN, SIND, SINPI.\n",
      "\n",
      "    Documentation for sin\n",
      "       doc sin\n",
      "\n",
      "    Other uses of sin\n",
      "\n",
      "       codistributed/sin    fixedpoint/sin    sym/sin         tabular/sin\n",
      "       dlarray/sin          gpuArray/sin      symbolic/sin\n",
      "\n"
     ]
    }
   ],
   "source": [
    "help sin"
   ]
  },
  {
   "cell_type": "code",
   "execution_count": 2,
   "id": "11cd9192-394f-425e-8100-5e55982091fe",
   "metadata": {
    "tags": []
   },
   "outputs": [
    {
     "name": "stdout",
     "output_type": "stream",
     "text": [
      " WHO    List current variables.\n",
      "    WHO lists the variables in the current workspace.\n",
      " \n",
      "    In a nested function, variables are grouped into those in the nested\n",
      "    function and those in each of the containing functions.  WHO displays\n",
      "    only the variables names, not the function to which each variable\n",
      "    belongs.  For this information, use WHOS.\n",
      " \n",
      "    WHOS lists more information about each variable.\n",
      "    WHO GLOBAL and WHOS GLOBAL list the variables in the global workspace.\n",
      "    WHO -FILE FILENAME lists the variables in the specified .MAT file.\n",
      " \n",
      "    WHO ... VAR1 VAR2 restricts the display to the variables specified. The\n",
      "    wildcard character '*' can be used to display variables that match a\n",
      "    pattern.  For instance, WHO A* finds all variables in the current\n",
      "    workspace that start with A.\n",
      " \n",
      "    WHO -REGEXP PAT1 PAT2 can be used to display all variables matching the\n",
      "    specified patterns using regular expressions. For more information on\n",
      "    using regular expressions, type \"doc regexp\" at the command prompt.\n",
      " \n",
      "    Use the functional form of WHO, such as WHO('-file',FILE,V1,V2),\n",
      "    when the filename or variable names are stored as a character vector or \n",
      "    string scalar. \n",
      " \n",
      "    S = WHO(...) returns a cell array containing the names of the variables\n",
      "    in the workspace or file. You must use the functional form of WHO when\n",
      "    there is an output argument.\n",
      " \n",
      "    Examples for pattern matching:\n",
      "        who a*                      % Show variable names starting with \"a\"\n",
      "        who -regexp ^b\\d{3}$        % Show variable names starting with \"b\"\n",
      "                                    %   and followed by 3 digits\n",
      "        who -file fname -regexp \\d  % Show variable names containing any\n",
      "                                    %   digits that exist in MAT-file fname\n",
      " \n",
      "    See also WHOS, CLEAR, CLEARVARS, SAVE, LOAD.\n",
      "\n",
      "    Documentation for who\n",
      "       doc who\n",
      "\n",
      "    Other uses of who\n",
      "\n",
      "       internal.matlab.inspector.peer.PeerInspectorManager/who\n",
      "       Simulink.SimulationOutput/who\n",
      "\n"
     ]
    }
   ],
   "source": [
    "help who"
   ]
  },
  {
   "cell_type": "code",
   "execution_count": 3,
   "id": "99c7b4b7-1bbd-4b4d-a8c7-9b0988a42442",
   "metadata": {
    "tags": []
   },
   "outputs": [
    {
     "name": "stdout",
     "output_type": "stream",
     "text": [
      " MEAN   Average or mean value.\n",
      "    S = MEAN(X) is the mean value of the elements in X if X is a vector. \n",
      "    For matrices, S is a row vector containing the mean value of each \n",
      "    column. \n",
      "    For N-D arrays, S is the mean value of the elements along the first \n",
      "    array dimension whose size does not equal 1.\n",
      " \n",
      "    MEAN(X,\"all\") is the mean of all elements in X.\n",
      " \n",
      "    MEAN(X,DIM) takes the mean along the dimension DIM of X.\n",
      " \n",
      "    MEAN(X,VECDIM) operates on the dimensions specified in the vector \n",
      "    VECDIM. For example, MEAN(X,[1 2]) operates on the elements contained\n",
      "    in the first and second dimensions of X.\n",
      " \n",
      "    S = MEAN(...,OUTTYPE) specifies the type in which the mean is performed, \n",
      "    and the type of S. Available options are:\n",
      " \n",
      "    \"double\"    -  S has class double for any input X\n",
      "    \"native\"    -  S has the same class as X\n",
      "    \"default\"   -  If X is floating point, that is double or single,\n",
      "                   S has the same class as X. If X is not floating point, \n",
      "                   S has class double.\n",
      " \n",
      "    S = MEAN(...,NANFLAG) specifies how NaN values are treated:\n",
      " \n",
      "    \"includemissing\" / \"includenan\" -\n",
      "                   (default) The mean of a vector containing NaN values is NaN.\n",
      "    \"omitmissing\" / \"omitnan\"       -\n",
      "                   The mean of a vector containing NaN values is the mean\n",
      "                   of all its non-NaN elements. If all elements are NaN,\n",
      "                   the result is NaN.\n",
      " \n",
      "    Example:\n",
      "        X = [1 2 3; 3 3 6; 4 6 8; 4 7 7]\n",
      "        mean(X,1)\n",
      "        mean(X,2)\n",
      " \n",
      "    Class support for input X:\n",
      "       float: double, single\n",
      "       integer: uint8, int8, uint16, int16, uint32,\n",
      "                int32, uint64, int64\n",
      " \n",
      "    See also MEDIAN, STD, MIN, MAX, VAR, COV, MODE.\n",
      "\n",
      "    Documentation for mean\n",
      "       doc mean\n",
      "\n",
      "    Other uses of mean\n",
      "\n",
      "       codistributed/mean    prob.NormalDistribution/mean\n",
      "       datetime/mean         sweepset/mean\n",
      "       dlarray/mean          symfun/mean\n",
      "       duration/mean         tabular/mean\n",
      "       fixedpoint/mean       tall/mean\n",
      "       gpuArray/mean         timeseries/mean\n",
      "\n"
     ]
    }
   ],
   "source": [
    "help mean"
   ]
  },
  {
   "cell_type": "code",
   "execution_count": 4,
   "id": "317f2922-4fef-4505-bd31-580a2f603d00",
   "metadata": {
    "tags": []
   },
   "outputs": [
    {
     "name": "stdout",
     "output_type": "stream",
     "text": [
      " MAX    Maximum elements of an array.\n",
      "    M = MAX(X) is the largest element in the vector X. If X is a matrix, M \n",
      "    is a row vector containing the maximum element from each column. For \n",
      "    N-D arrays, MAX(X) operates along the first non-singleton dimension.\n",
      " \n",
      "    When X is complex, the maximum is computed using the magnitude\n",
      "    MAX(ABS(X)). In the case of equal magnitude elements the phase angle \n",
      "    MAX(ANGLE(X)) is used.\n",
      " \n",
      "    [M,I] = MAX(X) also returns the indices corresponding to the maximum\n",
      "    values. The values in I index into the dimension of X that is being\n",
      "    operated on. If X contains more than one element with the maximum\n",
      "    value, then the index of the first one is returned.\n",
      " \n",
      "    C = MAX(X,Y) returns an array with the largest elements taken from X or \n",
      "    Y. X and Y must have compatible sizes. In the simplest cases, they can \n",
      "    be the same size or one can be a scalar. Two inputs have compatible \n",
      "    sizes if, for every dimension, the dimension sizes of the inputs are \n",
      "    either the same or one of them is 1.\n",
      " \n",
      "    M = MAX(X,[],\"all\") returns the largest element of X.\n",
      " \n",
      "    [M,I] = MAX(X,[],\"all\") also returns the linear index into X that \n",
      "    corresponds to the maximum value over all elements in X.\n",
      " \n",
      "    M = MAX(X,[],DIM) or [M,I] = MAX(X,[],DIM) operates along the \n",
      "    dimension DIM.\n",
      " \n",
      "    M = MAX(X,[],VECDIM) operates on the dimensions specified in the vector \n",
      "    VECDIM. For example, MAX(X,[],[1 2]) operates on the elements contained\n",
      "    in the first and second dimensions of X.\n",
      " \n",
      "    C = MAX(...,NANFLAG) specifies how NaN values are treated:\n",
      " \n",
      "    \"omitmissing\" / \"omitnan\"       -\n",
      "                   (default) Ignores all NaN values and returns the maximum\n",
      "                   of the non-NaN elements.  If all elements are NaN, then \n",
      "                   the first one is returned.\n",
      "    \"includemissing\" / \"includenan\" -\n",
      "                   Returns NaN if there is any NaN value. The index points\n",
      "                   to the first NaN element.\n",
      " \n",
      "    [M,I] = MAX(X,[],...,'linear') returns the linear index into X that \n",
      "    corresponds to the maximum value in X.\n",
      " \n",
      "    C = MAX(...,'ComparisonMethod',METHOD) specifies how to compare input\n",
      "    values. The value of METHOD must be:\n",
      " \n",
      "        \"auto\" - (default) Compares real numbers according to \"real\", and\n",
      "                 complex numbers according to \"abs\".\n",
      "        \"real\" - Compares according to REAL(A). Elements with equal real\n",
      "                 parts are then sorted by IMAG(A).\n",
      "        \"abs\"  - Compares according to ABS(A). Elements with equal\n",
      "                 magnitudes are then sorted by ANGLE(A).\n",
      " \n",
      "    Example: \n",
      "        X = [2 8 4; 7 3 9]\n",
      "        max(X,[],1)\n",
      "        max(X,[],2)\n",
      "        max(X,5)\n",
      " \n",
      "    See also MIN, BOUNDS, CUMMAX, MEDIAN, MEAN, SORT, MAXK, ISLOCALMAX.\n",
      "\n",
      "    Documentation for max\n",
      "       doc max\n",
      "\n",
      "    Other uses of max\n",
      "\n",
      "       categorical/max      fixedpoint/max            sym/max\n",
      "       codistributed/max    gpuArray/max              tabular/max\n",
      "       datetime/max         localpoly/max             tall/max\n",
      "       dlarray/max          localpspline/max          timeseries/max\n",
      "       duration/max         simbio.complexstep/max\n",
      "\n"
     ]
    }
   ],
   "source": [
    "help max"
   ]
  },
  {
   "cell_type": "markdown",
   "id": "0a4c53f0-986b-4096-a6dc-163b2ee68655",
   "metadata": {},
   "source": [
    "<div class=\"alert alert-block alert-success\">\n",
    "    \n",
    "**2.** Zkuste několik jednoduchých výpočtů.\n",
    "- 1 + 1\n",
    "- 1 * 0\n",
    "- 9 / 3\n",
    "- 2^10\n",
    "\n",
    "</div>"
   ]
  },
  {
   "cell_type": "code",
   "execution_count": 8,
   "id": "7ce5bbbf-62ce-44c7-ab88-d6c236f902e1",
   "metadata": {
    "tags": []
   },
   "outputs": [
    {
     "data": {
      "text/html": [
       "<html><body><pre>ans = \n",
       "   2</pre></body></html>"
      ],
      "text/plain": [
       "ans = \n",
       "   2"
      ]
     },
     "execution_count": 8,
     "metadata": {},
     "output_type": "execute_result"
    }
   ],
   "source": [
    "1 + 1"
   ]
  },
  {
   "cell_type": "code",
   "execution_count": 5,
   "id": "1ad00cd9-f5aa-4128-867d-e5a442687942",
   "metadata": {
    "tags": []
   },
   "outputs": [
    {
     "data": {
      "text/html": [
       "<html><body><pre>ans = 1</pre></body></html>"
      ],
      "text/plain": [
       "ans = 1"
      ]
     },
     "execution_count": 5,
     "metadata": {},
     "output_type": "execute_result"
    }
   ],
   "source": [
    " 1 * 1"
   ]
  },
  {
   "cell_type": "code",
   "execution_count": 6,
   "id": "ecf73eaf-b561-4f00-840d-24b8c105df77",
   "metadata": {
    "tags": []
   },
   "outputs": [
    {
     "data": {
      "text/html": [
       "<html><body><pre>ans = 0</pre></body></html>"
      ],
      "text/plain": [
       "ans = 0"
      ]
     },
     "execution_count": 6,
     "metadata": {},
     "output_type": "execute_result"
    }
   ],
   "source": [
    "1 * 0"
   ]
  },
  {
   "cell_type": "code",
   "execution_count": 7,
   "id": "165f13ea-7162-48d8-b310-17837737db22",
   "metadata": {
    "tags": []
   },
   "outputs": [
    {
     "data": {
      "text/html": [
       "<html><body><pre>ans = 3</pre></body></html>"
      ],
      "text/plain": [
       "ans = 3"
      ]
     },
     "execution_count": 7,
     "metadata": {},
     "output_type": "execute_result"
    }
   ],
   "source": [
    "9 / 3"
   ]
  },
  {
   "cell_type": "code",
   "execution_count": 8,
   "id": "547b4499-64e9-4d5b-b37a-b4e7a8b2c337",
   "metadata": {
    "tags": []
   },
   "outputs": [
    {
     "data": {
      "text/html": [
       "<html><body><pre>ans = 1024</pre></body></html>"
      ],
      "text/plain": [
       "ans = 1024"
      ]
     },
     "execution_count": 8,
     "metadata": {},
     "output_type": "execute_result"
    }
   ],
   "source": [
    "2^10"
   ]
  },
  {
   "cell_type": "markdown",
   "id": "18e61fdf-d7fb-4383-ae8a-657e20c75e5d",
   "metadata": {
    "tags": []
   },
   "source": [
    "<div class=\"alert alert-block alert-info\"> \n",
    "    \n",
    "Je dobrým zvykem okolo znamének vkládat mezery. "
   ]
  },
  {
   "cell_type": "markdown",
   "id": "ac4e720b-28ab-484b-bae1-24fe4a8e4a98",
   "metadata": {
    "tags": []
   },
   "source": [
    "<div class=\"alert alert-block alert-warning\">\n",
    "\n",
    "Zkuste mocninu vypočítat funkcí **power**. Nápovědu, jak funkci použít, najděte příkazem **help power**.  \n",
    "    \n",
    "</div>"
   ]
  },
  {
   "cell_type": "code",
   "execution_count": 9,
   "id": "437a6495-767c-4680-a840-5ee132461b62",
   "metadata": {
    "tags": []
   },
   "outputs": [
    {
     "name": "stdout",
     "output_type": "stream",
     "text": [
      " .^  Array power.\n",
      "    Z = X.^Y denotes element-by-element powers. X and Y must have\n",
      "    compatible sizes. In the simplest cases, they can be the same size or\n",
      "    one can be a scalar. Two inputs have compatible sizes if, for every\n",
      "    dimension, the dimension sizes of the inputs are either the same or one\n",
      "    of them is 1.\n",
      " \n",
      "    C = POWER(A,B) is called for the syntax 'A .^ B' when A or B is an object.\n",
      " \n",
      "    See <a href=\"matlab:helpview('matlab','MATLAB_OPS')\">MATLAB Operators and Special Characters</a> for more details.\n",
      " \n",
      "    See also MPOWER, NTHROOT, REALPOW.\n",
      "\n",
      "    Documentation for power\n",
      "       doc power\n",
      "\n",
      "    Other uses of power\n",
      "\n",
      "       codistributed/power    gpuArray/power      tabular/power\n",
      "       dlarray/power          quaternion/power    xregcovariance/power\n",
      "       embedded.fi/power      symbolic/power\n",
      "\n"
     ]
    }
   ],
   "source": [
    "help power"
   ]
  },
  {
   "cell_type": "code",
   "execution_count": 10,
   "id": "0067d1ee-6d0e-4a19-baf5-602011e90f2c",
   "metadata": {
    "tags": []
   },
   "outputs": [
    {
     "data": {
      "text/html": [
       "<html><body><pre>ans = 8</pre></body></html>"
      ],
      "text/plain": [
       "ans = 8"
      ]
     },
     "execution_count": 10,
     "metadata": {},
     "output_type": "execute_result"
    }
   ],
   "source": [
    "power(2,3)"
   ]
  },
  {
   "cell_type": "code",
   "execution_count": 11,
   "id": "78cd5c61-1884-4fc0-8344-5608cc953f9c",
   "metadata": {
    "tags": []
   },
   "outputs": [
    {
     "data": {
      "text/html": [
       "<html><body><pre>ans = 8</pre></body></html>"
      ],
      "text/plain": [
       "ans = 8"
      ]
     },
     "execution_count": 11,
     "metadata": {},
     "output_type": "execute_result"
    }
   ],
   "source": [
    "2^3"
   ]
  },
  {
   "cell_type": "code",
   "execution_count": 15,
   "id": "9c096e66-5d76-4745-823a-877676f687df",
   "metadata": {
    "tags": []
   },
   "outputs": [
    {
     "data": {
      "text/html": [
       "<html><body><pre>a = 1x2 double\n",
       "     2     2\n",
       "</pre></body></html>"
      ],
      "text/plain": [
       "a = 1x2 double\n",
       "     2     2\n"
      ]
     },
     "execution_count": 15,
     "metadata": {},
     "output_type": "execute_result"
    },
    {
     "data": {
      "text/html": [
       "<html><body><pre>b = 1x2 double\n",
       "     3     4\n",
       "</pre></body></html>"
      ],
      "text/plain": [
       "b = 1x2 double\n",
       "     3     4\n"
      ]
     },
     "execution_count": 15,
     "metadata": {},
     "output_type": "execute_result"
    },
    {
     "data": {
      "text/html": [
       "<html><body><pre>ans = 1x2 double\n",
       "     8    16\n",
       "</pre></body></html>"
      ],
      "text/plain": [
       "ans = 1x2 double\n",
       "     8    16\n"
      ]
     },
     "execution_count": 15,
     "metadata": {},
     "output_type": "execute_result"
    }
   ],
   "source": [
    "a = [2,2]\n",
    "b = [3,4]\n",
    "power(a,b)"
   ]
  },
  {
   "cell_type": "markdown",
   "id": "54e0f547-2576-473c-9e1a-74a0aba77003",
   "metadata": {
    "tags": []
   },
   "source": [
    "<div class=\"alert alert-block alert-success\">\n",
    "    \n",
    "**3.** Zkuste několik složitějších výpočtů.\n",
    "- exp(1)\n",
    "- log(0)\n",
    "- sqrt(4)\n",
    "- sqrt(-1)\n",
    "- (3 + 2i) / (-2i)\n",
    "\n",
    "</div>"
   ]
  },
  {
   "cell_type": "code",
   "execution_count": 16,
   "id": "e0a1c64d-c876-4d45-8fac-9439d860f9f0",
   "metadata": {
    "tags": []
   },
   "outputs": [
    {
     "data": {
      "text/html": [
       "<html><body><pre>ans = 2.7183</pre></body></html>"
      ],
      "text/plain": [
       "ans = 2.7183"
      ]
     },
     "execution_count": 16,
     "metadata": {},
     "output_type": "execute_result"
    }
   ],
   "source": [
    "exp(1)"
   ]
  },
  {
   "cell_type": "code",
   "execution_count": 17,
   "id": "ab359396-7b11-428b-8d01-e524477d8e6d",
   "metadata": {
    "tags": []
   },
   "outputs": [
    {
     "data": {
      "text/html": [
       "<html><body><pre>ans = -Inf</pre></body></html>"
      ],
      "text/plain": [
       "ans = -Inf"
      ]
     },
     "execution_count": 17,
     "metadata": {},
     "output_type": "execute_result"
    }
   ],
   "source": [
    "log(0)"
   ]
  },
  {
   "cell_type": "code",
   "execution_count": 18,
   "id": "20e3ce03-da33-422b-8332-5aed5c736aae",
   "metadata": {
    "tags": []
   },
   "outputs": [
    {
     "data": {
      "text/html": [
       "<html><body><pre>ans = 0.0000 + 3.1416i</pre></body></html>"
      ],
      "text/plain": [
       "ans = 0.0000 + 3.1416i"
      ]
     },
     "execution_count": 18,
     "metadata": {},
     "output_type": "execute_result"
    }
   ],
   "source": [
    "log(-1)"
   ]
  },
  {
   "cell_type": "code",
   "execution_count": 19,
   "id": "9ca15c7f-c339-4ab5-89a5-2c834aabb961",
   "metadata": {
    "tags": []
   },
   "outputs": [
    {
     "data": {
      "text/html": [
       "<html><body><pre>ans = 2</pre></body></html>"
      ],
      "text/plain": [
       "ans = 2"
      ]
     },
     "execution_count": 19,
     "metadata": {},
     "output_type": "execute_result"
    }
   ],
   "source": [
    "sqrt(4)"
   ]
  },
  {
   "cell_type": "code",
   "execution_count": 20,
   "id": "0ab8cf6d-9fb7-4e35-8b49-72a214f42505",
   "metadata": {
    "tags": []
   },
   "outputs": [
    {
     "data": {
      "text/html": [
       "<html><body><pre>ans = 0.0000 + 1.0000i</pre></body></html>"
      ],
      "text/plain": [
       "ans = 0.0000 + 1.0000i"
      ]
     },
     "execution_count": 20,
     "metadata": {},
     "output_type": "execute_result"
    }
   ],
   "source": [
    "sqrt(-1)"
   ]
  },
  {
   "cell_type": "code",
   "execution_count": 21,
   "id": "eda1796a-80ba-43f7-bc55-3c4aae35075b",
   "metadata": {
    "tags": []
   },
   "outputs": [
    {
     "data": {
      "text/html": [
       "<html><body><pre>ans = -1.0000 + 1.5000i</pre></body></html>"
      ],
      "text/plain": [
       "ans = -1.0000 + 1.5000i"
      ]
     },
     "execution_count": 21,
     "metadata": {},
     "output_type": "execute_result"
    }
   ],
   "source": [
    "(3 + 2i)/(-2i)"
   ]
  },
  {
   "cell_type": "markdown",
   "id": "fde916d3-7624-4b37-afe8-29689b576126",
   "metadata": {},
   "source": [
    "<div class=\"alert alert-block alert-warning\">\n",
    "\n",
    "Jak funguje dělení nulou? Je v MATLABu zakódováno nekonečno nebo chybějící hodnota? Zkuste dělit kladné číslo nulou, záporné číslo nulou a vyzkoušejte si i algebraické operace s hodnotou **Inf**.\n",
    "    \n",
    "</div>"
   ]
  },
  {
   "cell_type": "code",
   "execution_count": 22,
   "id": "b9b5918d-c826-4d87-81d0-216f1cb0eea6",
   "metadata": {
    "tags": []
   },
   "outputs": [
    {
     "data": {
      "text/html": [
       "<html><body><pre>ans = Inf</pre></body></html>"
      ],
      "text/plain": [
       "ans = Inf"
      ]
     },
     "execution_count": 22,
     "metadata": {},
     "output_type": "execute_result"
    }
   ],
   "source": [
    "5/0"
   ]
  },
  {
   "cell_type": "code",
   "execution_count": 23,
   "id": "4fe7f558-3e60-4e49-a330-f4e0aa7b7eab",
   "metadata": {
    "tags": []
   },
   "outputs": [
    {
     "data": {
      "text/html": [
       "<html><body><pre>ans = -Inf</pre></body></html>"
      ],
      "text/plain": [
       "ans = -Inf"
      ]
     },
     "execution_count": 23,
     "metadata": {},
     "output_type": "execute_result"
    }
   ],
   "source": [
    "-5/0"
   ]
  },
  {
   "cell_type": "code",
   "execution_count": 24,
   "id": "25f4b1a9-cbe4-4bc4-a2ef-ff4139e1fbc5",
   "metadata": {
    "tags": []
   },
   "outputs": [
    {
     "data": {
      "text/html": [
       "<html><body><pre>ans = Inf</pre></body></html>"
      ],
      "text/plain": [
       "ans = Inf"
      ]
     },
     "execution_count": 24,
     "metadata": {},
     "output_type": "execute_result"
    }
   ],
   "source": [
    "Inf + Inf"
   ]
  },
  {
   "cell_type": "code",
   "execution_count": 25,
   "id": "b8c88ba7-ec7f-45fa-93f5-1a650f1a0b63",
   "metadata": {
    "tags": []
   },
   "outputs": [
    {
     "data": {
      "text/html": [
       "<html><body><pre>ans = NaN</pre></body></html>"
      ],
      "text/plain": [
       "ans = NaN"
      ]
     },
     "execution_count": 25,
     "metadata": {},
     "output_type": "execute_result"
    }
   ],
   "source": [
    "Inf - Inf"
   ]
  },
  {
   "cell_type": "code",
   "execution_count": 26,
   "id": "c9cfce52-b264-4ab2-b34e-cecd8ce7605e",
   "metadata": {
    "tags": []
   },
   "outputs": [
    {
     "data": {
      "text/html": [
       "<html><body><pre>ans = NaN</pre></body></html>"
      ],
      "text/plain": [
       "ans = NaN"
      ]
     },
     "execution_count": 26,
     "metadata": {},
     "output_type": "execute_result"
    }
   ],
   "source": [
    "2 * Inf - Inf"
   ]
  },
  {
   "cell_type": "code",
   "execution_count": 27,
   "id": "ddb5c65c-c0f6-42cf-91e1-35055aa97267",
   "metadata": {
    "tags": []
   },
   "outputs": [
    {
     "data": {
      "text/html": [
       "<html><body><pre>ans = NaN</pre></body></html>"
      ],
      "text/plain": [
       "ans = NaN"
      ]
     },
     "execution_count": 27,
     "metadata": {},
     "output_type": "execute_result"
    }
   ],
   "source": [
    "2 * Inf / Inf"
   ]
  },
  {
   "cell_type": "code",
   "execution_count": 28,
   "id": "0cbb70e6-8ec0-439f-8c93-451a432f41e4",
   "metadata": {
    "tags": []
   },
   "outputs": [
    {
     "data": {
      "text/html": [
       "<html><body><pre>ans = Inf</pre></body></html>"
      ],
      "text/plain": [
       "ans = Inf"
      ]
     },
     "execution_count": 28,
     "metadata": {},
     "output_type": "execute_result"
    }
   ],
   "source": [
    "Inf * Inf"
   ]
  },
  {
   "cell_type": "code",
   "execution_count": 29,
   "id": "8f445953-ad0b-42ee-a038-d3aee8db2a63",
   "metadata": {
    "tags": []
   },
   "outputs": [
    {
     "data": {
      "text/html": [
       "<html><body><pre>ans = Inf</pre></body></html>"
      ],
      "text/plain": [
       "ans = Inf"
      ]
     },
     "execution_count": 29,
     "metadata": {},
     "output_type": "execute_result"
    }
   ],
   "source": [
    "Inf^2"
   ]
  },
  {
   "cell_type": "markdown",
   "id": "540942cb-0431-47f6-8364-0a2afc0ab4a1",
   "metadata": {},
   "source": [
    "<div class=\"alert alert-block alert-success\">\n",
    "    \n",
    "**4.** Zobrazte výsledek předchozího výpočtu příkazem **ans**.\n",
    "\n",
    "</div>"
   ]
  },
  {
   "cell_type": "code",
   "execution_count": 30,
   "id": "528fc67b-4301-4050-a58f-5690062871d3",
   "metadata": {
    "tags": []
   },
   "outputs": [
    {
     "data": {
      "text/html": [
       "<html><body><pre>ans = Inf</pre></body></html>"
      ],
      "text/plain": [
       "ans = Inf"
      ]
     },
     "execution_count": 30,
     "metadata": {},
     "output_type": "execute_result"
    }
   ],
   "source": [
    "ans"
   ]
  },
  {
   "cell_type": "markdown",
   "id": "319b1ed2-4c23-42df-8369-f6bc66d4e059",
   "metadata": {
    "tags": []
   },
   "source": [
    "<div class=\"alert alert-block alert-success\">\n",
    "    \n",
    "**5.** Definujte několik proměnných a vyzkoušejte si manipulaci s nimi.\n",
    "    \n",
    "</div>"
   ]
  },
  {
   "cell_type": "code",
   "execution_count": 31,
   "id": "73eca1ae-eac6-4480-845a-1652d84cec65",
   "metadata": {
    "tags": []
   },
   "outputs": [
    {
     "data": {
      "text/html": [
       "<html><body><pre>a = 2</pre></body></html>"
      ],
      "text/plain": [
       "a = 2"
      ]
     },
     "execution_count": 31,
     "metadata": {},
     "output_type": "execute_result"
    }
   ],
   "source": [
    "a = 2"
   ]
  },
  {
   "cell_type": "code",
   "execution_count": 32,
   "id": "3ec97f41-d824-4254-a4d7-328fbe4f4f8b",
   "metadata": {
    "tags": []
   },
   "outputs": [
    {
     "data": {
      "text/html": [
       "<html><body><pre>today = \"wednesday\"</pre></body></html>"
      ],
      "text/plain": [
       "today = \"wednesday\""
      ]
     },
     "execution_count": 32,
     "metadata": {},
     "output_type": "execute_result"
    }
   ],
   "source": [
    "today = \"wednesday\""
   ]
  },
  {
   "cell_type": "code",
   "execution_count": 33,
   "id": "1dcc72d4-ff9c-4956-bf98-7509150a7c16",
   "metadata": {
    "tags": []
   },
   "outputs": [
    {
     "data": {
      "text/html": [
       "<html><body><pre>today = 2</pre></body></html>"
      ],
      "text/plain": [
       "today = 2"
      ]
     },
     "execution_count": 33,
     "metadata": {},
     "output_type": "execute_result"
    }
   ],
   "source": [
    "today = a"
   ]
  },
  {
   "cell_type": "code",
   "execution_count": 34,
   "id": "c429639d-d700-447e-a41a-e29132616c03",
   "metadata": {
    "tags": []
   },
   "outputs": [
    {
     "data": {
      "text/html": [
       "<html><body><pre>a = 2</pre></body></html>"
      ],
      "text/plain": [
       "a = 2"
      ]
     },
     "execution_count": 34,
     "metadata": {},
     "output_type": "execute_result"
    }
   ],
   "source": [
    "a"
   ]
  },
  {
   "cell_type": "code",
   "execution_count": 35,
   "id": "b77b7953-cb73-4d11-8552-e6cdca8cfd63",
   "metadata": {
    "tags": []
   },
   "outputs": [
    {
     "data": {
      "text/html": [
       "<html><body><pre>ans = 4</pre></body></html>"
      ],
      "text/plain": [
       "ans = 4"
      ]
     },
     "execution_count": 35,
     "metadata": {},
     "output_type": "execute_result"
    }
   ],
   "source": [
    "a * 2"
   ]
  },
  {
   "cell_type": "code",
   "execution_count": 36,
   "id": "4fc56942-a8b0-485c-b4bd-14f8ee0eb64b",
   "metadata": {
    "tags": []
   },
   "outputs": [
    {
     "data": {
      "text/html": [
       "<html><body><pre>a = 3</pre></body></html>"
      ],
      "text/plain": [
       "a = 3"
      ]
     },
     "execution_count": 36,
     "metadata": {},
     "output_type": "execute_result"
    }
   ],
   "source": [
    "a = 3"
   ]
  },
  {
   "cell_type": "code",
   "execution_count": 37,
   "id": "e1c6753d-8b3a-4436-9b86-02848841053f",
   "metadata": {
    "tags": []
   },
   "outputs": [
    {
     "data": {
      "text/html": [
       "<html><body><pre>today = 2</pre></body></html>"
      ],
      "text/plain": [
       "today = 2"
      ]
     },
     "execution_count": 37,
     "metadata": {},
     "output_type": "execute_result"
    }
   ],
   "source": [
    "today"
   ]
  },
  {
   "cell_type": "markdown",
   "id": "9616386c-1b09-456d-a9d1-713c4f327496",
   "metadata": {},
   "source": [
    "<div class=\"alert alert-block alert-warning\">\n",
    "\n",
    "Zkuste výsledky zobrazovat pomocí funkce **disp** (display). \n",
    "    \n",
    "</div>"
   ]
  },
  {
   "cell_type": "code",
   "execution_count": 39,
   "id": "2e7f4984-06bb-43f7-a6a5-3a67fea9823c",
   "metadata": {
    "tags": []
   },
   "outputs": [
    {
     "data": {
      "text/html": [
       "<html><body><pre>X = 1x5 datetime array\n",
       "   01-Jan-2014   01-Feb-2014   01-Mar-2014   01-Apr-2014   01-May-2014\n",
       "</pre></body></html>"
      ],
      "text/plain": [
       "X = 1x5 datetime array\n",
       "   01-Jan-2014   01-Feb-2014   01-Mar-2014   01-Apr-2014   01-May-2014\n"
      ]
     },
     "execution_count": 39,
     "metadata": {},
     "output_type": "execute_result"
    }
   ],
   "source": [
    "X = datetime(2014,1:5,1)"
   ]
  },
  {
   "cell_type": "code",
   "execution_count": 40,
   "id": "133364ac-d4a4-4bd8-851c-e2fe54cd8146",
   "metadata": {
    "tags": []
   },
   "outputs": [],
   "source": [
    "X = datetime(2014,1:5,1);"
   ]
  },
  {
   "cell_type": "code",
   "execution_count": 42,
   "id": "54550720-ac6e-41d9-8d4f-3ba0f088ab7b",
   "metadata": {
    "tags": []
   },
   "outputs": [
    {
     "name": "stdout",
     "output_type": "stream",
     "text": [
      "   01-Jan-2014   01-Feb-2014   01-Mar-2014   01-Apr-2014   01-May-2014\n",
      "\n"
     ]
    }
   ],
   "source": [
    "disp(X)"
   ]
  },
  {
   "cell_type": "code",
   "execution_count": 43,
   "id": "ae53e6d7-1bc6-4ace-9f34-ba3ce583d477",
   "metadata": {
    "tags": []
   },
   "outputs": [
    {
     "data": {
      "text/html": [
       "<html><body><pre>X = 1x5 datetime array\n",
       "   01-Jan-2014   01-Feb-2014   01-Mar-2014   01-Apr-2014   01-May-2014\n",
       "</pre></body></html>"
      ],
      "text/plain": [
       "X = 1x5 datetime array\n",
       "   01-Jan-2014   01-Feb-2014   01-Mar-2014   01-Apr-2014   01-May-2014\n"
      ]
     },
     "execution_count": 43,
     "metadata": {},
     "output_type": "execute_result"
    }
   ],
   "source": [
    "display(X)"
   ]
  },
  {
   "cell_type": "code",
   "execution_count": 41,
   "id": "c8cf8b5c-81f5-4bc0-8b2d-d022cab89e7e",
   "metadata": {
    "collapsed": true,
    "jupyter": {
     "outputs_hidden": true
    },
    "tags": []
   },
   "outputs": [
    {
     "name": "stdout",
     "output_type": "stream",
     "text": [
      " DISP Display array.\n",
      "    DISP(X) displays array X without printing the array name or \n",
      "    additional description information such as the size and class name.\n",
      "    In all other ways it is the same as leaving the semicolon off an\n",
      "    expression except that nothing is shown for empty arrays.\n",
      " \n",
      "    If X is a string or character array, the text is displayed.\n",
      " \n",
      "    See also formattedDisplayText, sprintf, num2str, format, details.\n",
      "\n",
      "    Documentation for disp\n",
      "       doc disp\n",
      "\n",
      "    Other uses of disp\n",
      "\n",
      "       categorical/disp\n",
      "       cdfepoch/disp\n",
      "       cfit/disp\n",
      "       cgexpr/disp\n",
      "       cgexprmodel/disp\n",
      "       cgoppoint/disp\n",
      "       cgprec/disp\n",
      "       cgsubexpr/disp\n",
      "       codistributed/disp\n",
      "       codistributor1d/disp\n",
      "       codistributor2dbc/disp\n",
      "       dagroup/disp\n",
      "       daitem/disp\n",
      "       dataset/disp\n",
      "       datetime/disp\n",
      "       distributed/disp\n",
      "       dsp/disp\n",
      "       dssm/disp\n",
      "       dtree/disp\n",
      "       duration/disp\n",
      "       fittype/disp\n",
      "       geopoint/disp\n",
      "       gmdistribution/disp\n",
      "       gpuArray/disp\n",
      "       icgroup/disp\n",
      "       idnlfun/disp\n",
      "       imaq/disp\n",
      "       imaqchild/disp\n",
      "       imaqdevice/disp\n",
      "       inline/disp\n",
      "       instrument/disp\n",
      "       internal.matlab.inspector.peer.PeerInspectorManager/disp\n",
      "       iviconfigurationstore/disp\n",
      "       laurmat/disp\n",
      "       laurpoly/disp\n",
      "       lib.pointer/disp\n",
      "       liftingScheme/disp\n",
      "       mtree/disp\n",
      "       network/disp\n",
      "       ntree/disp\n",
      "       opaque/disp\n",
      "       opcda/disp\n",
      "       parallel.settings.DefaultValue/disp\n",
      "       parallel.Settings/disp\n",
      "       pattern/disp\n",
      "       piecewisedistribution/disp\n",
      "       qrandstream/disp\n",
      "       quaternion/disp\n",
      "       RandStream/disp\n",
      "       realp/disp\n",
      "       serial/disp\n",
      "       sfit/disp\n",
      "       simulink/disp\n",
      "       ssm/disp\n",
      "       statespace/disp\n",
      "       sweepset/disp\n",
      "       sweepsetfilter/disp\n",
      "       sym/disp\n",
      "       tabular/disp\n",
      "       tall/disp\n",
      "       timer/disp\n",
      "       varyingGoal/disp\n",
      "       vrfigure/disp\n",
      "       vrnode/disp\n",
      "       vrworld/disp\n",
      "       wdectree/disp\n",
      "       wptree/disp\n",
      "       xregmodel/disp\n",
      "       xregmodswitch/disp\n",
      "       xregpointer/disp\n",
      "       xregstatsmodel/disp\n",
      "\n"
     ]
    }
   ],
   "source": [
    "help disp"
   ]
  },
  {
   "cell_type": "code",
   "execution_count": 38,
   "id": "0f5dbd1a-ce62-44f8-be53-fc4bb49dff91",
   "metadata": {
    "collapsed": true,
    "jupyter": {
     "outputs_hidden": true
    },
    "tags": []
   },
   "outputs": [
    {
     "name": "stdout",
     "output_type": "stream",
     "text": [
      " DISPLAY Display array.\n",
      "    DISPLAY(X) is called for the object X when the semicolon is not used\n",
      "    to terminate a statement. \n",
      " \n",
      "    For example,\n",
      "      X = datetime(2014,1:5,1)\n",
      "    calls DISPLAY(X) while\n",
      "      X = datetime(2014,1:5,1);\n",
      "    does not.\n",
      " \n",
      "    A typical implementation of DISPLAY calls DISP to do most of the work.\n",
      "    To customize the display of objects, overload the DISP function.\n",
      "    Note that DISP does not display empty arrays.\n",
      "    \n",
      "    See also disp, formattedDisplayText, matlab.mixin.CustomDisplay.\n",
      "\n",
      "    Documentation for display\n",
      "       doc display\n",
      "\n",
      "    Other uses of display\n",
      "\n",
      "       AnalysisPoint/display            opcroot/display\n",
      "       cdfepoch/display                 parallel.Settings/display\n",
      "       cgfuncmodel/display              phytree/display\n",
      "       codistributed/display            pid/display\n",
      "       conbase/display                  pidstd/display\n",
      "       coninputfactor/display           pidstd2/display\n",
      "       customreg/display                serial/display\n",
      "       distributed/display              sfit/display\n",
      "       frd/display                      SimData/display\n",
      "       genfrd/display                   SimTimeseries/display\n",
      "       genmat/display                   slLinearizer/display\n",
      "       genss/display                    slTuner/display\n",
      "       gmdistribution/display           sparss/display\n",
      "       gpuArray/display                 ss/display\n",
      "       groupedData/display              sym/display\n",
      "       icgroup/display                  symfunmatrix/display\n",
      "       icsignal/display                 symmatrix/display\n",
      "       idarx/display                    tabular/display\n",
      "       iddata/display                   tall/display\n",
      "       idfrd/display                    tf/display\n",
      "       idgrey/display                   timeseries/display\n",
      "       idNeuralStateSpace/display       tscollection/display\n",
      "       idnlarx/display                  tsdata.datametadata/display\n",
      "       idnlgrey/display                 tsdata.qualmetadata/display\n",
      "       idnlhw/display                   tsdata.timemetadata/display\n",
      "       idpoly/display                   tunableGain/display\n",
      "       idproc/display                   tunablePID/display\n",
      "       idss/display                     tunablePID2/display\n",
      "       idtf/display                     tunableSS/display\n",
      "       imaqchild/display                tunableSurface/display\n",
      "       imaqdevice/display               tunableTF/display\n",
      "       inline/display                   ucomplex/display\n",
      "       instrument/display               ucomplexm/display\n",
      "       iviconfigurationstore/display    udyn/display\n",
      "       laurmat/display                  ufrd/display\n",
      "       laurpoly/display                 ultidyn/display\n",
      "       loopswitch/display               umargin/display\n",
      "       lpvss/display                    umat/display\n",
      "       ltvss/display                    ureal/display\n",
      "       mbcinputfactor/display           uss/display\n",
      "       mechss/display                   vrfigure/display\n",
      "       mpc/display                      vrnode/display\n",
      "       mpcstate/display                 vrworld/display\n",
      "       network/display                  wtbo/display\n",
      "       opaque/display                   zpk/display\n",
      "\n"
     ]
    }
   ],
   "source": [
    "help display"
   ]
  },
  {
   "cell_type": "markdown",
   "id": "4d2fb3f5-7fd2-4b13-afe9-7a8bc2f49e93",
   "metadata": {},
   "source": [
    "<div class=\"alert alert-block alert-warning\">\n",
    "    \n",
    "Vyzkouštejte definování proměnné zakončit středníkem **;**. Jaký je ve výstupu rozdíl? Napadá Vás, kdy by použití středníku bylo vhodné?\n",
    "    \n",
    "</div>"
   ]
  },
  {
   "cell_type": "code",
   "execution_count": 44,
   "id": "ff408a01-b02c-4592-8720-42c07042304d",
   "metadata": {
    "tags": []
   },
   "outputs": [
    {
     "data": {
      "text/html": [
       "<html><body><pre>ans = 42</pre></body></html>"
      ],
      "text/plain": [
       "ans = 42"
      ]
     },
     "execution_count": 44,
     "metadata": {},
     "output_type": "execute_result"
    }
   ],
   "source": [
    " a = 6;\n",
    " b = 7;\n",
    " a * b"
   ]
  },
  {
   "cell_type": "code",
   "execution_count": 45,
   "id": "6fcde677-1881-42bb-9ef5-cccb69fba3ca",
   "metadata": {
    "tags": []
   },
   "outputs": [
    {
     "data": {
      "text/html": [
       "<html><body><pre>a = 6</pre></body></html>"
      ],
      "text/plain": [
       "a = 6"
      ]
     },
     "execution_count": 45,
     "metadata": {},
     "output_type": "execute_result"
    },
    {
     "data": {
      "text/html": [
       "<html><body><pre>b = 7</pre></body></html>"
      ],
      "text/plain": [
       "b = 7"
      ]
     },
     "execution_count": 45,
     "metadata": {},
     "output_type": "execute_result"
    },
    {
     "data": {
      "text/html": [
       "<html><body><pre>ans = 42</pre></body></html>"
      ],
      "text/plain": [
       "ans = 42"
      ]
     },
     "execution_count": 45,
     "metadata": {},
     "output_type": "execute_result"
    }
   ],
   "source": [
    "a = 6\n",
    "b = 7\n",
    "a * b"
   ]
  },
  {
   "cell_type": "markdown",
   "id": "1f68d388-0dc7-4ff1-8292-8d848584a79a",
   "metadata": {},
   "source": [
    "Zde napiště odpověď na otázku:\n",
    "- viac definovaných premenných, nepotrebujem výpis, lepšia prehľadnosť"
   ]
  },
  {
   "cell_type": "markdown",
   "id": "c6259c61-2757-471a-a0b0-f3055a85999f",
   "metadata": {
    "tags": []
   },
   "source": [
    "<div class=\"alert alert-block alert-success\">\n",
    "    \n",
    "**6.** Zobrazte proměnnou **a**.\n",
    "\n",
    "</div>"
   ]
  },
  {
   "cell_type": "code",
   "execution_count": 46,
   "id": "75a1e1d8-131b-49a2-b789-3236f83a0b49",
   "metadata": {
    "tags": []
   },
   "outputs": [
    {
     "name": "stdout",
     "output_type": "stream",
     "text": [
      "     6\n",
      "\n"
     ]
    }
   ],
   "source": [
    "disp(a)"
   ]
  },
  {
   "cell_type": "code",
   "execution_count": 47,
   "id": "c527e168-8a57-4089-9f8b-d96ffc2361e5",
   "metadata": {
    "tags": []
   },
   "outputs": [
    {
     "data": {
      "text/html": [
       "<html><body><pre>a = 6</pre></body></html>"
      ],
      "text/plain": [
       "a = 6"
      ]
     },
     "execution_count": 47,
     "metadata": {},
     "output_type": "execute_result"
    }
   ],
   "source": [
    "a"
   ]
  },
  {
   "cell_type": "code",
   "execution_count": 48,
   "id": "0775bf12-d2aa-46ba-8771-dfcd0f0f84dd",
   "metadata": {
    "tags": []
   },
   "outputs": [
    {
     "data": {
      "text/html": [
       "<html><body><pre>a = 6</pre></body></html>"
      ],
      "text/plain": [
       "a = 6"
      ]
     },
     "execution_count": 48,
     "metadata": {},
     "output_type": "execute_result"
    }
   ],
   "source": [
    "display(a)"
   ]
  },
  {
   "cell_type": "markdown",
   "id": "cb5c709c-eed4-4bbb-8ad3-dda05f146169",
   "metadata": {},
   "source": [
    "<div class=\"alert alert-block alert-success\">\n",
    "    \n",
    "**7.** Do proměnné **a** uložte její dvojnásobek. \n",
    "\n",
    "</div>"
   ]
  },
  {
   "cell_type": "code",
   "execution_count": 49,
   "id": "e5bfd0ed-1837-4b00-a2c9-2883c2501820",
   "metadata": {
    "tags": []
   },
   "outputs": [
    {
     "data": {
      "text/html": [
       "<html><body><pre>a = 12</pre></body></html>"
      ],
      "text/plain": [
       "a = 12"
      ]
     },
     "execution_count": 49,
     "metadata": {},
     "output_type": "execute_result"
    }
   ],
   "source": [
    "a = a * 2"
   ]
  },
  {
   "cell_type": "markdown",
   "id": "74c14e1e-9b8c-4453-aad1-20c0870d59c3",
   "metadata": {
    "tags": []
   },
   "source": [
    "<div class=\"alert alert-block alert-success\">\n",
    "    \n",
    "**8.** Vyzkoušejte použití příkazu **who**.\n",
    "\n",
    "</div>"
   ]
  },
  {
   "cell_type": "code",
   "execution_count": 50,
   "id": "242d0314-b8e9-4f18-bff3-e44b454e2859",
   "metadata": {
    "tags": []
   },
   "outputs": [
    {
     "name": "stdout",
     "output_type": "stream",
     "text": [
      "\n",
      "Your variables are:\n",
      "\n",
      "X      a      ans    b      today  x      \n",
      "\n"
     ]
    }
   ],
   "source": [
    "who"
   ]
  },
  {
   "cell_type": "code",
   "execution_count": 52,
   "id": "70111c99-5f7b-4712-9545-007bc80eff11",
   "metadata": {
    "tags": []
   },
   "outputs": [
    {
     "name": "stdout",
     "output_type": "stream",
     "text": [
      "   01-Jan-2014   01-Feb-2014   01-Mar-2014   01-Apr-2014   01-May-2014\n",
      "\n",
      "     2\n",
      "\n",
      "     1\n",
      "\n"
     ]
    }
   ],
   "source": [
    "disp(X)\n",
    "disp(today)\n",
    "disp(x)"
   ]
  },
  {
   "cell_type": "markdown",
   "id": "1ba67bcb-7d8a-496c-b0e7-b656e2fc01d2",
   "metadata": {
    "tags": []
   },
   "source": [
    "<div class=\"alert alert-block alert-warning\">\n",
    "    \n",
    "Vyzkoušejte použití příkazu **whos**. Jaký je rozdíl ve výstupu příkazů **who** a **whos**?\n",
    "\n",
    "</div>"
   ]
  },
  {
   "cell_type": "code",
   "execution_count": 55,
   "id": "0d383849-790d-4c5b-9248-4ba7379dc402",
   "metadata": {
    "tags": []
   },
   "outputs": [
    {
     "name": "stdout",
     "output_type": "stream",
     "text": [
      "  Name       Size            Bytes  Class       Attributes\n",
      "\n",
      "  X          1x5                40  datetime              \n",
      "  a          1x1                 8  double                \n",
      "  ans        1x1                 8  double                \n",
      "  b          1x1                 8  double                \n",
      "  today      1x1                 8  double                \n",
      "  x          1x1                 8  double                \n",
      "\n"
     ]
    }
   ],
   "source": [
    "whos"
   ]
  },
  {
   "cell_type": "code",
   "execution_count": 54,
   "id": "b1116341-f98e-4c9e-9289-6fa2c7c0b64a",
   "metadata": {
    "collapsed": true,
    "jupyter": {
     "outputs_hidden": true
    },
    "tags": []
   },
   "outputs": [
    {
     "name": "stdout",
     "output_type": "stream",
     "text": [
      " WHOS List current variables, long form. \n",
      "    WHOS is a long form of WHO.  It lists all the variables in the current\n",
      "    workspace, together with information about their size, bytes, class,\n",
      "    etc.\n",
      " \n",
      "    In a nested function, variables are grouped into those in the nested\n",
      "    function and those in each of the containing functions, each group\n",
      "    separated by a line of dashes.\n",
      "    \n",
      "    WHOS GLOBAL lists the variables in the global workspace.\n",
      "    WHOS -FILE FILENAME lists the variables in the specified .MAT file.\n",
      "    WHOS ... VAR1 VAR2 restricts the display to the variables specified.\n",
      " \n",
      "    The wildcard character '*' can be used to display variables that match\n",
      "    a pattern.  For instance, WHOS A* finds all variables in the current\n",
      "    workspace that start with A.\n",
      " \n",
      "    WHOS -REGEXP PAT1 PAT2 can be used to display all variables matching\n",
      "    the specified patterns using regular expressions. For more information\n",
      "    on using regular expressions, type \"doc regexp\" at the command prompt.\n",
      " \n",
      "    Use the functional form of WHOS, such as WHOS('-file',FILE,V1,V2), when\n",
      "    the filename or variable names are stored as a character vector or \n",
      "    string scalar. \n",
      " \n",
      "    S = WHOS(...) returns a structure with the fields:\n",
      "        name       -- variable name\n",
      "        size       -- variable size\n",
      "        bytes      -- number of bytes allocated for the array\n",
      "        class      -- class of variable\n",
      "        global     -- logical indicating whether variable is global\n",
      "        sparse     -- logical indicating whether value is sparse\n",
      "        complex    -- logical indicating whether value is complex\n",
      "        nesting    -- struct with the following two fields:\n",
      "             function -- name of function where variable is defined\n",
      "             level    -- nesting level of the function\n",
      "        persistent -- logical indicating whether variable is persistent\n",
      "    You must use the functional form of WHOS when there is an output\n",
      "    argument. \n",
      " \n",
      "    Examples for pattern matching:\n",
      "       whos a*                      % Show variable names starting with \"a\"\n",
      "       whos -regexp ^b\\d{3}$        % Show variable names starting with \"b\"\n",
      "                                    %   and followed by 3 digits\n",
      "       whos -file fname -regexp \\d  % Show variable names containing any\n",
      "                                    %   digits that exist in MAT-file fname\n",
      " \n",
      "    See also WHO, CLEAR, CLEARVARS, SAVE, LOAD.\n",
      "\n",
      "    Documentation for whos\n",
      "       doc whos\n",
      "\n",
      "    Other uses of whos\n",
      "\n",
      "       Simulink.ModelWorkspace/whos\n",
      "\n"
     ]
    }
   ],
   "source": [
    "help whos"
   ]
  },
  {
   "cell_type": "markdown",
   "id": "69033ec8-5341-4e02-a60c-4cd68cb2b790",
   "metadata": {},
   "source": [
    "Zde napište odpověď.\n",
    "who - len názvy premenných, whos aj čo obsahujú"
   ]
  },
  {
   "cell_type": "markdown",
   "id": "4a21114b-7ad4-475d-aff4-38b28f3c6310",
   "metadata": {},
   "source": [
    "<div class=\"alert alert-block alert-info\">\n",
    "    \n",
    "Příkazy who a whos používáme například když načteme nová data, nebo když se chceme ujistit, že nepřepisujeme nějakou starší proměnnou.\n",
    "\n",
    "</div>"
   ]
  },
  {
   "cell_type": "markdown",
   "id": "46e13dd6-4726-455b-90f8-32ebe82f811e",
   "metadata": {
    "tags": []
   },
   "source": [
    "<div class=\"alert alert-block alert-success\">\n",
    "    \n",
    "**9.** Vymažte proměnnou **a** příkazem **clear a**. \n",
    "\n",
    "</div>"
   ]
  },
  {
   "cell_type": "code",
   "execution_count": 56,
   "id": "9bdbbe22-0cc7-4120-9eb6-260eb7a0d499",
   "metadata": {
    "tags": []
   },
   "outputs": [],
   "source": [
    "clear a"
   ]
  },
  {
   "cell_type": "code",
   "execution_count": 57,
   "id": "eeee9d67-4615-47a6-943e-411c3ec4a321",
   "metadata": {
    "tags": []
   },
   "outputs": [
    {
     "name": "stdout",
     "output_type": "stream",
     "text": [
      "\n",
      "Your variables are:\n",
      "\n",
      "X      ans    b      today  x      \n",
      "\n"
     ]
    }
   ],
   "source": [
    "who"
   ]
  },
  {
   "cell_type": "markdown",
   "id": "7fed8a05-8f7c-438f-a5a1-e2352270d8bd",
   "metadata": {},
   "source": [
    "<div class=\"alert alert-block alert-success\">\n",
    "    \n",
    "**10.** Zkuste znovu zavolat proměnnou **a**.\n",
    "\n",
    "</div>"
   ]
  },
  {
   "cell_type": "code",
   "execution_count": 58,
   "id": "3bacd436-1c98-494c-a7b4-60428408d698",
   "metadata": {
    "tags": []
   },
   "outputs": [
    {
     "name": "stderr",
     "output_type": "stream",
     "text": [
      "Unrecognized function or variable 'a'."
     ]
    }
   ],
   "source": [
    "a"
   ]
  },
  {
   "cell_type": "markdown",
   "id": "2678f8d7-6075-4e71-a7fd-d6ad9eae946f",
   "metadata": {},
   "source": [
    "<div class=\"alert alert-block alert-success\">\n",
    "    \n",
    "**11.** Oveřte, že proměnná **a** opravdu není v seznamu definovaných proměnných příkazem **who** nebo **whos**.\n",
    "\n",
    "</div>"
   ]
  },
  {
   "cell_type": "code",
   "execution_count": 59,
   "id": "da8fce6c-54a8-4dd5-9f53-ed4b1f6d5bda",
   "metadata": {
    "tags": []
   },
   "outputs": [
    {
     "name": "stdout",
     "output_type": "stream",
     "text": [
      "\n",
      "Your variables are:\n",
      "\n",
      "X      ans    b      today  x      \n",
      "\n"
     ]
    }
   ],
   "source": [
    "who"
   ]
  },
  {
   "cell_type": "markdown",
   "id": "ecd67a7d-5a5c-4d6d-904f-42b143caf59d",
   "metadata": {
    "tags": []
   },
   "source": [
    "<div class=\"alert alert-block alert-success\">\n",
    "    \n",
    "**12.** Definujte nové proměnné **a** a **b**, jako libovolná čísla.\n",
    "\n",
    "</div>"
   ]
  },
  {
   "cell_type": "code",
   "execution_count": 60,
   "id": "58f5f773-26ff-4906-a421-92f1c1d447f5",
   "metadata": {
    "tags": []
   },
   "outputs": [
    {
     "data": {
      "text/html": [
       "<html><body><pre>a = 7.3000</pre></body></html>"
      ],
      "text/plain": [
       "a = 7.3000"
      ]
     },
     "execution_count": 60,
     "metadata": {},
     "output_type": "execute_result"
    },
    {
     "data": {
      "text/html": [
       "<html><body><pre>b = 6.8000</pre></body></html>"
      ],
      "text/plain": [
       "b = 6.8000"
      ]
     },
     "execution_count": 60,
     "metadata": {},
     "output_type": "execute_result"
    }
   ],
   "source": [
    "a = 7.3\n",
    "b = 6.8"
   ]
  },
  {
   "cell_type": "markdown",
   "id": "383876a6-66c4-473c-90c1-a47727cda7c6",
   "metadata": {},
   "source": [
    "<div class=\"alert alert-block alert-success\">\n",
    "    \n",
    "**13.** Definujte číselné vektory **u** a **v**. \n",
    "\n",
    "</div>"
   ]
  },
  {
   "cell_type": "code",
   "execution_count": 61,
   "id": "be93a723-422c-4190-9844-392998ad31d7",
   "metadata": {
    "tags": []
   },
   "outputs": [
    {
     "data": {
      "text/html": [
       "<html><body><pre>u = 1x2 double\n",
       "     1     2\n",
       "</pre></body></html>"
      ],
      "text/plain": [
       "u = 1x2 double\n",
       "     1     2\n"
      ]
     },
     "execution_count": 61,
     "metadata": {},
     "output_type": "execute_result"
    }
   ],
   "source": [
    "u = [1, 2]"
   ]
  },
  {
   "cell_type": "code",
   "execution_count": 62,
   "id": "87f17009-1379-4bcc-8cc1-d98c4d61f597",
   "metadata": {
    "tags": []
   },
   "outputs": [
    {
     "data": {
      "text/html": [
       "<html><body><pre>v = 1x3 double\n",
       "     5     6     7\n",
       "</pre></body></html>"
      ],
      "text/plain": [
       "v = 1x3 double\n",
       "     5     6     7\n"
      ]
     },
     "execution_count": 62,
     "metadata": {},
     "output_type": "execute_result"
    }
   ],
   "source": [
    "v = [5, 6, 7]"
   ]
  },
  {
   "cell_type": "markdown",
   "id": "dd20a87b-724e-4e18-a1f6-9b804ec5b65d",
   "metadata": {},
   "source": [
    "<div class=\"alert alert-block alert-warning\">\n",
    "    \n",
    "Jsou takto definované vektory řádkové nebo sloupcové?\n",
    "\n",
    "</div>"
   ]
  },
  {
   "cell_type": "markdown",
   "id": "71061605-172c-42d5-82bc-ddb0c95fc0aa",
   "metadata": {},
   "source": [
    "Zde napiště odpověď.\n",
    "riadkove: 1 riadok a 2, resp. 3 stĺpce"
   ]
  },
  {
   "cell_type": "markdown",
   "id": "b07296ac-f047-4f05-9183-c19f837bb69e",
   "metadata": {},
   "source": [
    "<div class=\"alert alert-block alert-success\">\n",
    "    \n",
    "**14.** Vyzkoušejte si manipulaci mezi skaláry a vektory.\n",
    "- u * 2\n",
    "- v / 3\n",
    "- u + a \n",
    "- v - 1/3\n",
    "- u * u\n",
    "- u * v\n",
    "- u'\n",
    "- v'\n",
    "- u * v'\n",
    "- u * u'\n",
    "\n",
    "</div>"
   ]
  },
  {
   "cell_type": "code",
   "execution_count": 69,
   "id": "d3cf1fad-014d-429a-a787-252e46088168",
   "metadata": {
    "tags": []
   },
   "outputs": [
    {
     "name": "stdout",
     "output_type": "stream",
     "text": [
      "     1     2\n",
      "\n",
      "     5     6     7\n",
      "\n"
     ]
    }
   ],
   "source": [
    "disp(u)\n",
    "disp(v)"
   ]
  },
  {
   "cell_type": "code",
   "execution_count": 72,
   "id": "499f7db2-37ee-4543-bcce-72b47cedf450",
   "metadata": {
    "tags": []
   },
   "outputs": [
    {
     "name": "stdout",
     "output_type": "stream",
     "text": [
      "     2     4\n",
      "\n"
     ]
    }
   ],
   "source": [
    "disp(u * 2)"
   ]
  },
  {
   "cell_type": "code",
   "execution_count": 71,
   "id": "05e904a6-dc0b-48fa-a165-99e09364b64d",
   "metadata": {
    "tags": []
   },
   "outputs": [
    {
     "name": "stdout",
     "output_type": "stream",
     "text": [
      "    1.6667    2.0000    2.3333\n",
      "\n"
     ]
    }
   ],
   "source": [
    "disp(v / 3)"
   ]
  },
  {
   "cell_type": "code",
   "execution_count": 70,
   "id": "0faa2699-4418-4f4f-bf83-c92030647010",
   "metadata": {
    "tags": []
   },
   "outputs": [
    {
     "name": "stdout",
     "output_type": "stream",
     "text": [
      "    8.3000    9.3000\n",
      "\n"
     ]
    }
   ],
   "source": [
    "disp(u + a)"
   ]
  },
  {
   "cell_type": "code",
   "execution_count": 73,
   "id": "531a1fc1-baa0-49b7-b6e4-d71fe1f13e23",
   "metadata": {
    "tags": []
   },
   "outputs": [
    {
     "name": "stdout",
     "output_type": "stream",
     "text": [
      "    4.6667    5.6667    6.6667\n",
      "\n"
     ]
    }
   ],
   "source": [
    "disp(v - 1/3)"
   ]
  },
  {
   "cell_type": "code",
   "execution_count": 78,
   "id": "9a1b0fee-c236-4fa3-b650-000a155ec44b",
   "metadata": {
    "tags": []
   },
   "outputs": [
    {
     "name": "stderr",
     "output_type": "stream",
     "text": [
      "Error using *\n",
      "Incorrect dimensions for matrix multiplication. Check that the number of columns in the first matrix matches the number of rows in the second matrix. To operate on each element of the matrix individually, use TIMES (.*) for elementwise multiplication."
     ]
    }
   ],
   "source": [
    "u * u"
   ]
  },
  {
   "cell_type": "code",
   "execution_count": 77,
   "id": "85f053a3-da85-42fa-bce9-9cc45a606c27",
   "metadata": {
    "tags": []
   },
   "outputs": [
    {
     "data": {
      "text/html": [
       "<html><body><pre>ans = 1x2 double\n",
       "     1     4\n",
       "</pre></body></html>"
      ],
      "text/plain": [
       "ans = 1x2 double\n",
       "     1     4\n"
      ]
     },
     "execution_count": 77,
     "metadata": {},
     "output_type": "execute_result"
    }
   ],
   "source": [
    "u .* u"
   ]
  },
  {
   "cell_type": "code",
   "execution_count": 79,
   "id": "1dd666f5-5de6-42a9-a547-e16111855af6",
   "metadata": {
    "tags": []
   },
   "outputs": [
    {
     "name": "stderr",
     "output_type": "stream",
     "text": [
      "Arrays have incompatible sizes for this operation."
     ]
    }
   ],
   "source": [
    "u .* v"
   ]
  },
  {
   "cell_type": "code",
   "execution_count": 80,
   "id": "a21c0f36-505f-4459-b27a-fc69803c2534",
   "metadata": {
    "tags": []
   },
   "outputs": [
    {
     "data": {
      "text/html": [
       "<html><body><pre>ans = 2x1 double\n",
       "     1\n",
       "     2\n",
       "</pre></body></html>"
      ],
      "text/plain": [
       "ans = 2x1 double\n",
       "     1\n",
       "     2\n"
      ]
     },
     "execution_count": 80,
     "metadata": {},
     "output_type": "execute_result"
    }
   ],
   "source": [
    "u'"
   ]
  },
  {
   "cell_type": "code",
   "execution_count": 81,
   "id": "9886400c-f7c2-4537-945d-6abe4665d745",
   "metadata": {
    "tags": []
   },
   "outputs": [
    {
     "data": {
      "text/html": [
       "<html><body><pre>ans = 3x1 double\n",
       "     5\n",
       "     6\n",
       "     7\n",
       "</pre></body></html>"
      ],
      "text/plain": [
       "ans = 3x1 double\n",
       "     5\n",
       "     6\n",
       "     7\n"
      ]
     },
     "execution_count": 81,
     "metadata": {},
     "output_type": "execute_result"
    }
   ],
   "source": [
    "v'"
   ]
  },
  {
   "cell_type": "code",
   "execution_count": 82,
   "id": "5ae1560b-7f2c-4629-938d-8a48b7fadc30",
   "metadata": {
    "tags": []
   },
   "outputs": [
    {
     "name": "stderr",
     "output_type": "stream",
     "text": [
      "Error using *\n",
      "Incorrect dimensions for matrix multiplication. Check that the number of columns in the first matrix matches the number of rows in the second matrix. To operate on each element of the matrix individually, use TIMES (.*) for elementwise multiplication."
     ]
    }
   ],
   "source": [
    "u * v'"
   ]
  },
  {
   "cell_type": "code",
   "execution_count": 83,
   "id": "feecfe03-a4e6-4cdf-a8e0-d37c6c32c7ee",
   "metadata": {
    "tags": []
   },
   "outputs": [
    {
     "data": {
      "text/html": [
       "<html><body><pre>ans = 5</pre></body></html>"
      ],
      "text/plain": [
       "ans = 5"
      ]
     },
     "execution_count": 83,
     "metadata": {},
     "output_type": "execute_result"
    }
   ],
   "source": [
    "u * u'"
   ]
  },
  {
   "cell_type": "code",
   "execution_count": 84,
   "id": "65d956ea-d85b-4a4a-a087-43b0d9bd1991",
   "metadata": {
    "tags": []
   },
   "outputs": [
    {
     "data": {
      "text/html": [
       "<html><body><pre>ans = 2x2 double\n",
       "     1     2\n",
       "     2     4\n",
       "</pre></body></html>"
      ],
      "text/plain": [
       "ans = 2x2 double\n",
       "     1     2\n",
       "     2     4\n"
      ]
     },
     "execution_count": 84,
     "metadata": {},
     "output_type": "execute_result"
    }
   ],
   "source": [
    "u' * u"
   ]
  },
  {
   "cell_type": "markdown",
   "id": "3a0c61fd-2243-4b2d-a42e-4b68e6470c27",
   "metadata": {},
   "source": [
    "<div class=\"alert alert-block alert-danger\">\n",
    "    \n",
    "Některé z příkazů nemusí fungovat. Uvědomte si proč nefungují.\n",
    "\n",
    "</div>"
   ]
  },
  {
   "cell_type": "markdown",
   "id": "35fbfd47-e2f7-4f15-909d-75e6e3bd67ee",
   "metadata": {},
   "source": [
    "<div class=\"alert alert-block alert-success\">\n",
    "    \n",
    "**15.** Definujte matice **M** a **N**.\n",
    "\n",
    "</div>"
   ]
  },
  {
   "cell_type": "code",
   "execution_count": 85,
   "id": "1f5396a5-5c9c-41ed-a15e-690516263f33",
   "metadata": {
    "tags": []
   },
   "outputs": [
    {
     "data": {
      "text/html": [
       "<html><body><pre>M = 2x2 double\n",
       "     1     2\n",
       "     3     4\n",
       "</pre></body></html>"
      ],
      "text/plain": [
       "M = 2x2 double\n",
       "     1     2\n",
       "     3     4\n"
      ]
     },
     "execution_count": 85,
     "metadata": {},
     "output_type": "execute_result"
    }
   ],
   "source": [
    "M = [1 2 ; 3 4]"
   ]
  },
  {
   "cell_type": "code",
   "execution_count": 86,
   "id": "2c0b866a-1011-45ae-958e-6f18a226d5ce",
   "metadata": {
    "tags": []
   },
   "outputs": [
    {
     "data": {
      "text/html": [
       "<html><body><pre>N = 2x3 double\n",
       "     1     2     3\n",
       "     4     5     6\n",
       "</pre></body></html>"
      ],
      "text/plain": [
       "N = 2x3 double\n",
       "     1     2     3\n",
       "     4     5     6\n"
      ]
     },
     "execution_count": 86,
     "metadata": {},
     "output_type": "execute_result"
    }
   ],
   "source": [
    "N = [1 2 3 ; 4 5 6]"
   ]
  },
  {
   "cell_type": "code",
   "execution_count": 87,
   "id": "c53ca251-1f28-49aa-8d9f-175e3ce60561",
   "metadata": {
    "tags": []
   },
   "outputs": [
    {
     "data": {
      "text/html": [
       "<html><body><pre>pokus = 3x2 double\n",
       "     1     4\n",
       "     2     5\n",
       "     3     6\n",
       "</pre></body></html>"
      ],
      "text/plain": [
       "pokus = 3x2 double\n",
       "     1     4\n",
       "     2     5\n",
       "     3     6\n"
      ]
     },
     "execution_count": 87,
     "metadata": {},
     "output_type": "execute_result"
    }
   ],
   "source": [
    "pokus = [ 1 4; 2 5; 3 6]"
   ]
  },
  {
   "cell_type": "code",
   "execution_count": 88,
   "id": "13cbcbf0-1e9a-4da8-bf91-ed37efa8f90d",
   "metadata": {
    "tags": []
   },
   "outputs": [
    {
     "data": {
      "text/html": [
       "<html><body><pre>ans = 2x3 double\n",
       "     1     2     3\n",
       "     4     5     6\n",
       "</pre></body></html>"
      ],
      "text/plain": [
       "ans = 2x3 double\n",
       "     1     2     3\n",
       "     4     5     6\n"
      ]
     },
     "execution_count": 88,
     "metadata": {},
     "output_type": "execute_result"
    }
   ],
   "source": [
    "pokus'"
   ]
  },
  {
   "cell_type": "markdown",
   "id": "c5216cef-0d45-417d-9c83-e59047dc89f5",
   "metadata": {},
   "source": [
    "<div class=\"alert alert-block alert-success\">\n",
    "    \n",
    "**16.** Vyzkoušejte si práci s maticemi, vektory a skaláry.\n",
    "- M'\n",
    "- a'\n",
    "- M - a\n",
    "- M * a\n",
    "- M * N\n",
    "- N * M\n",
    "- M * v\n",
    "- M * v'\n",
    "- M' * M\n",
    "\n",
    "</div>"
   ]
  },
  {
   "cell_type": "code",
   "execution_count": 93,
   "id": "2abed285-6859-4416-a126-6ba59e47bc9b",
   "metadata": {
    "tags": []
   },
   "outputs": [
    {
     "name": "stdout",
     "output_type": "stream",
     "text": [
      "     1     2\n",
      "     3     4\n",
      "\n",
      "     1     3\n",
      "     2     4\n",
      "\n"
     ]
    }
   ],
   "source": [
    "disp(M)\n",
    "disp(M')"
   ]
  },
  {
   "cell_type": "code",
   "execution_count": 92,
   "id": "09287779-b365-4381-9484-19b7331e61bd",
   "metadata": {
    "tags": []
   },
   "outputs": [
    {
     "name": "stdout",
     "output_type": "stream",
     "text": [
      "    7.3000\n",
      "\n",
      "    7.3000\n",
      "\n"
     ]
    }
   ],
   "source": [
    "disp(a)\n",
    "disp(a')"
   ]
  },
  {
   "cell_type": "markdown",
   "id": "9fa012dd-06c5-4f68-aef8-6795bc85aaeb",
   "metadata": {},
   "source": [
    "a' hodnota transponovaná je rovnaká hodnota, nevyhlási chybu"
   ]
  },
  {
   "cell_type": "code",
   "execution_count": 96,
   "id": "a0d7d112-70ad-4cd9-939e-347e257e5ba6",
   "metadata": {
    "tags": []
   },
   "outputs": [
    {
     "name": "stdout",
     "output_type": "stream",
     "text": [
      "   -6.3000   -5.3000\n",
      "   -4.3000   -3.3000\n",
      "\n"
     ]
    }
   ],
   "source": [
    "disp(M - a) % odpocita hodnotu a od kazdeho prvku v matici"
   ]
  },
  {
   "cell_type": "code",
   "execution_count": 97,
   "id": "bc3ee3b3-9074-47fd-90ef-9e352ad5b9dc",
   "metadata": {
    "tags": []
   },
   "outputs": [
    {
     "name": "stdout",
     "output_type": "stream",
     "text": [
      "    7.3000   14.6000\n",
      "   21.9000   29.2000\n",
      "\n"
     ]
    }
   ],
   "source": [
    "disp(M * a)"
   ]
  },
  {
   "cell_type": "code",
   "execution_count": 100,
   "id": "d41b5b9e-e3a0-4c3a-ba90-9560d2210511",
   "metadata": {
    "tags": []
   },
   "outputs": [
    {
     "name": "stdout",
     "output_type": "stream",
     "text": [
      "     1     2\n",
      "     3     4\n",
      "\n",
      "     1     2     3\n",
      "     4     5     6\n",
      "\n",
      "     9    12    15\n",
      "    19    26    33\n",
      "\n"
     ]
    },
    {
     "name": "stderr",
     "output_type": "stream",
     "text": [
      "Error using *\n",
      "Incorrect dimensions for matrix multiplication. Check that the number of columns in the first matrix matches the number of rows in the second matrix. To operate on each element of the matrix individually, use TIMES (.*) for elementwise multiplication."
     ]
    }
   ],
   "source": [
    "disp(M)\n",
    "disp(N)\n",
    "disp(M * N)\n",
    "disp(N * M)"
   ]
  },
  {
   "cell_type": "code",
   "execution_count": 104,
   "id": "f991ba35-8d2f-4e9c-8806-fcc449f10d43",
   "metadata": {
    "tags": []
   },
   "outputs": [
    {
     "name": "stdout",
     "output_type": "stream",
     "text": [
      "     1     2\n",
      "     3     4\n",
      "\n",
      "     5     6     7\n",
      "\n",
      "    10    14\n",
      "    14    20\n",
      "\n"
     ]
    },
    {
     "name": "stderr",
     "output_type": "stream",
     "text": [
      "Error using *\n",
      "Incorrect dimensions for matrix multiplication. Check that the number of columns in the first matrix matches the number of rows in the second matrix. To operate on each element of the matrix individually, use TIMES (.*) for elementwise multiplication."
     ]
    }
   ],
   "source": [
    "disp(M)\n",
    "disp(v)\n",
    "disp(M'* M)\n",
    "disp(M * v)\n",
    "disp(M * v')"
   ]
  },
  {
   "cell_type": "markdown",
   "id": "a46906bf-8347-45b9-81de-42e29df40fd2",
   "metadata": {},
   "source": [
    "<div class=\"alert alert-block alert-success\">\n",
    "    \n",
    "**16.** Vytvořte matici **C** rozměrů 4 $\\times$ 4 tvořenou samými dvojkami. Vytvořte ji pěti různými způsoby:\n",
    "    \n",
    "1. Ručně\n",
    "2. Vytvořte si pomocný vektor **u** a ten vložte do matice jako jednotlivé sloupce či řádky.\n",
    "3. Použijte příkaz **ones** a vhodnou algebraickou operaci.\n",
    "4. Použijte příkaz **zeros** a vhodnou algebraickou operaci.\n",
    "5. Využijte násobení vektorů.\n",
    "\n",
    "</div>"
   ]
  },
  {
   "cell_type": "code",
   "execution_count": 106,
   "id": "3a0f1bdd-5822-4614-ba89-e8dca04c1f5c",
   "metadata": {
    "tags": []
   },
   "outputs": [
    {
     "data": {
      "text/html": [
       "<html><body><pre>c1 = 4x4 double\n",
       "     2     2     2     2\n",
       "     2     2     2     2\n",
       "     2     2     2     2\n",
       "     2     2     2     2\n",
       "</pre></body></html>"
      ],
      "text/plain": [
       "c1 = 4x4 double\n",
       "     2     2     2     2\n",
       "     2     2     2     2\n",
       "     2     2     2     2\n",
       "     2     2     2     2\n"
      ]
     },
     "execution_count": 106,
     "metadata": {},
     "output_type": "execute_result"
    }
   ],
   "source": [
    "c1 = [2 2 2 2; 2 2 2 2; 2 2 2 2; 2 2 2 2]"
   ]
  },
  {
   "cell_type": "code",
   "execution_count": 110,
   "id": "8bb60499-dd8c-486b-bfd8-2a1322e18480",
   "metadata": {
    "tags": []
   },
   "outputs": [
    {
     "data": {
      "text/html": [
       "<html><body><pre>c2 = 4x4 double\n",
       "     2     2     2     2\n",
       "     2     2     2     2\n",
       "     2     2     2     2\n",
       "     2     2     2     2\n",
       "</pre></body></html>"
      ],
      "text/plain": [
       "c2 = 4x4 double\n",
       "     2     2     2     2\n",
       "     2     2     2     2\n",
       "     2     2     2     2\n",
       "     2     2     2     2\n"
      ]
     },
     "execution_count": 110,
     "metadata": {},
     "output_type": "execute_result"
    }
   ],
   "source": [
    "u = [2 2 2 2];\n",
    "c2 = [ u; u; u; u]"
   ]
  },
  {
   "cell_type": "code",
   "execution_count": 113,
   "id": "2966345c-261b-46c2-b6f9-772aba53831a",
   "metadata": {
    "tags": []
   },
   "outputs": [
    {
     "data": {
      "text/html": [
       "<html><body><pre>c3 = 4x4 double\n",
       "     2     2     2     2\n",
       "     2     2     2     2\n",
       "     2     2     2     2\n",
       "     2     2     2     2\n",
       "</pre></body></html>"
      ],
      "text/plain": [
       "c3 = 4x4 double\n",
       "     2     2     2     2\n",
       "     2     2     2     2\n",
       "     2     2     2     2\n",
       "     2     2     2     2\n"
      ]
     },
     "execution_count": 113,
     "metadata": {},
     "output_type": "execute_result"
    }
   ],
   "source": [
    "c3 = 2 * ones(4,4)"
   ]
  },
  {
   "cell_type": "code",
   "execution_count": 114,
   "id": "7679115d-78ae-4a34-81f8-32789e5dd867",
   "metadata": {
    "tags": []
   },
   "outputs": [
    {
     "data": {
      "text/html": [
       "<html><body><pre>c4 = 4x4 double\n",
       "     2     2     2     2\n",
       "     2     2     2     2\n",
       "     2     2     2     2\n",
       "     2     2     2     2\n",
       "</pre></body></html>"
      ],
      "text/plain": [
       "c4 = 4x4 double\n",
       "     2     2     2     2\n",
       "     2     2     2     2\n",
       "     2     2     2     2\n",
       "     2     2     2     2\n"
      ]
     },
     "execution_count": 114,
     "metadata": {},
     "output_type": "execute_result"
    }
   ],
   "source": [
    "c4 = 2 + zeros(4,4)"
   ]
  },
  {
   "cell_type": "code",
   "execution_count": 117,
   "id": "296dd716-b3b0-4ee6-b72d-32e441c8c4b1",
   "metadata": {
    "tags": []
   },
   "outputs": [
    {
     "data": {
      "text/html": [
       "<html><body><pre>c5 = 4x4 double\n",
       "     2     2     2     2\n",
       "     2     2     2     2\n",
       "     2     2     2     2\n",
       "     2     2     2     2\n",
       "</pre></body></html>"
      ],
      "text/plain": [
       "c5 = 4x4 double\n",
       "     2     2     2     2\n",
       "     2     2     2     2\n",
       "     2     2     2     2\n",
       "     2     2     2     2\n"
      ]
     },
     "execution_count": 117,
     "metadata": {},
     "output_type": "execute_result"
    }
   ],
   "source": [
    "c5 = ones(4, 4) * ones(4, 4) / 2"
   ]
  },
  {
   "cell_type": "markdown",
   "id": "e6f8a36f-d667-48b5-9adb-cd1c095c2c9e",
   "metadata": {
    "tags": []
   },
   "source": [
    "<div class=\"alert alert-block alert-success\">\n",
    "    \n",
    "**17.** Vytvořte pseudo-náhodnou matici **A** rozměru $10 \\times 8$, jejíž prvky jsou **celá** čísla v intervalu $[-20, 10].$\n",
    "\n",
    "1. Pro generování náhodné matice využijte funkci **rand**.\n",
    "2. Aby čísla pocházeli z intervalu [-20, 10], použijte vhodné algebraické operace pro transformaci intervalu.\n",
    "3. Pro zaokrouhlení použijte funkci **round**.\n",
    "\n",
    "Nápověda: Natáhnout a posunout.\n",
    "\n",
    "</div>"
   ]
  },
  {
   "cell_type": "code",
   "execution_count": 127,
   "id": "8df89c8e-590d-40cd-9aee-97d6abf311fd",
   "metadata": {
    "tags": []
   },
   "outputs": [
    {
     "data": {
      "text/html": [
       "<html><body><pre>ans = 10x8 double\n",
       "    0.8147    0.1576    0.6557    0.7060    0.4387    0.2760    0.7513    0.8407\n",
       "    0.9058    0.9706    0.0357    0.0318    0.3816    0.6797    0.2551    0.2543\n",
       "    0.1270    0.9572    0.8491    0.2769    0.7655    0.6551    0.5060    0.8143\n",
       "    0.9134    0.4854    0.9340    0.0462    0.7952    0.1626    0.6991    0.2435\n",
       "    0.6324    0.8003    0.6787    0.0971    0.1869    0.1190    0.8909    0.9293\n",
       "    0.0975    0.1419    0.7577    0.8235    0.4898    0.4984    0.9593    0.3500\n",
       "    0.2785    0.4218    0.7431    0.6948    0.4456    0.9597    0.5472    0.1966\n",
       "    0.5469    0.9157    0.3922    0.3171    0.6463    0.3404    0.1386    0.2511\n",
       "    0.9575    0.7922    0.6555    0.9502    0.7094    0.5853    0.1493    0.6160\n",
       "    0.9649    0.9595    0.1712    0.0344    0.7547    0.2238    0.2575    0.4733\n",
       "</pre></body></html>"
      ],
      "text/plain": [
       "ans = 10x8 double\n",
       "    0.8147    0.1576    0.6557    0.7060    0.4387    0.2760    0.7513    0.8407\n",
       "    0.9058    0.9706    0.0357    0.0318    0.3816    0.6797    0.2551    0.2543\n",
       "    0.1270    0.9572    0.8491    0.2769    0.7655    0.6551    0.5060    0.8143\n",
       "    0.9134    0.4854    0.9340    0.0462    0.7952    0.1626    0.6991    0.2435\n",
       "    0.6324    0.8003    0.6787    0.0971    0.1869    0.1190    0.8909    0.9293\n",
       "    0.0975    0.1419    0.7577    0.8235    0.4898    0.4984    0.9593    0.3500\n",
       "    0.2785    0.4218    0.7431    0.6948    0.4456    0.9597    0.5472    0.1966\n",
       "    0.5469    0.9157    0.3922    0.3171    0.6463    0.3404    0.1386    0.2511\n",
       "    0.9575    0.7922    0.6555    0.9502    0.7094    0.5853    0.1493    0.6160\n",
       "    0.9649    0.9595    0.1712    0.0344    0.7547    0.2238    0.2575    0.4733\n"
      ]
     },
     "execution_count": 127,
     "metadata": {},
     "output_type": "execute_result"
    },
    {
     "data": {
      "text/html": [
       "<html><body><pre>r = 10x8 double\n",
       "    -9   -18   -15    -6   -17    -7     6    -7\n",
       "     5   -18     4   -17     9     7    -1   -19\n",
       "    -2    -4   -11   -13   -20   -15    -9     7\n",
       "    -4     3    -4     7     3   -12    -5     8\n",
       "     8     8   -15   -15     5   -16    -8    -5\n",
       "   -11   -16    -2     5     6   -16   -18    -5\n",
       "     3    -3   -12    -4   -17     6   -13   -10\n",
       "     3    -6     0    10    -8    -3   -16     7\n",
       "    -9   -20     1   -18   -12    -4   -14    -9\n",
       "    -3   -10     2    -7     4   -16   -13   -17\n",
       "</pre></body></html>"
      ],
      "text/plain": [
       "r = 10x8 double\n",
       "    -9   -18   -15    -6   -17    -7     6    -7\n",
       "     5   -18     4   -17     9     7    -1   -19\n",
       "    -2    -4   -11   -13   -20   -15    -9     7\n",
       "    -4     3    -4     7     3   -12    -5     8\n",
       "     8     8   -15   -15     5   -16    -8    -5\n",
       "   -11   -16    -2     5     6   -16   -18    -5\n",
       "     3    -3   -12    -4   -17     6   -13   -10\n",
       "     3    -6     0    10    -8    -3   -16     7\n",
       "    -9   -20     1   -18   -12    -4   -14    -9\n",
       "    -3   -10     2    -7     4   -16   -13   -17\n"
      ]
     },
     "execution_count": 127,
     "metadata": {},
     "output_type": "execute_result"
    }
   ],
   "source": [
    "rng('default')\n",
    "rand(10,8)\n",
    "r = round(-20 + 30 * rand(10,8))"
   ]
  },
  {
   "cell_type": "code",
   "execution_count": 134,
   "id": "145f120a-9f0a-446c-8e62-0d7f8ca459ec",
   "metadata": {
    "tags": []
   },
   "outputs": [
    {
     "data": {
      "text/html": [
       "<html><body><pre>r = 10x8 double\n",
       "     5   -16     0     1    -7   -12     3     6\n",
       "     8    10   -19   -20    -9     1   -13   -13\n",
       "   -17     9     6   -12     3     0    -5     5\n",
       "     8    -5     8   -19     4   -15     1   -13\n",
       "    -1     4     1   -17   -15   -17     7     8\n",
       "   -17   -16     3     5    -5    -5     9   -10\n",
       "   -12    -7     3     1    -7     9    -4   -14\n",
       "    -4     8    -8   -11     0   -10   -16   -13\n",
       "     9     4     0     9     1    -2   -16    -1\n",
       "     9     9   -15   -19     3   -14   -13    -6\n",
       "</pre></body></html>"
      ],
      "text/plain": [
       "r = 10x8 double\n",
       "     5   -16     0     1    -7   -12     3     6\n",
       "     8    10   -19   -20    -9     1   -13   -13\n",
       "   -17     9     6   -12     3     0    -5     5\n",
       "     8    -5     8   -19     4   -15     1   -13\n",
       "    -1     4     1   -17   -15   -17     7     8\n",
       "   -17   -16     3     5    -5    -5     9   -10\n",
       "   -12    -7     3     1    -7     9    -4   -14\n",
       "    -4     8    -8   -11     0   -10   -16   -13\n",
       "     9     4     0     9     1    -2   -16    -1\n",
       "     9     9   -15   -19     3   -14   -13    -6\n"
      ]
     },
     "execution_count": 134,
     "metadata": {},
     "output_type": "execute_result"
    }
   ],
   "source": [
    "rng('default')\n",
    "r = randi(31,10,8)- 21"
   ]
  },
  {
   "cell_type": "markdown",
   "id": "08472a3d-46dd-44ca-8d61-fb87d3f5624b",
   "metadata": {},
   "source": [
    "<div class=\"alert alert-block alert-warning\">\n",
    "    \n",
    "Odvoďte obecný vzorec pro generování pseudonáhodné matice, jejíž prvky jsou celá čísla z intervalu $[a, b]$. \n",
    "\n",
    "</div>"
   ]
  },
  {
   "cell_type": "code",
   "execution_count": 136,
   "id": "13a71153-66b9-4b50-b667-a29b23657bc6",
   "metadata": {
    "tags": []
   },
   "outputs": [
    {
     "data": {
      "text/html": [
       "<html><body><pre>ans = 10x8 double\n",
       "     3     2     3     3     2     2     3     3\n",
       "     3     3     2     2     2     3     2     2\n",
       "     2     3     3     2     3     3     3     3\n",
       "     3     2     3     2     3     2     3     2\n",
       "     3     3     3     2     2     2     3     3\n",
       "     2     2     3     3     2     2     3     2\n",
       "     2     2     3     3     2     3     3     2\n",
       "     3     3     2     2     3     2     2     2\n",
       "     3     3     3     3     3     3     2     3\n",
       "     3     3     2     2     3     2     2     2\n",
       "</pre></body></html>"
      ],
      "text/plain": [
       "ans = 10x8 double\n",
       "     3     2     3     3     2     2     3     3\n",
       "     3     3     2     2     2     3     2     2\n",
       "     2     3     3     2     3     3     3     3\n",
       "     3     2     3     2     3     2     3     2\n",
       "     3     3     3     2     2     2     3     3\n",
       "     2     2     3     3     2     2     3     2\n",
       "     2     2     3     3     2     3     3     2\n",
       "     3     3     2     2     3     2     2     2\n",
       "     3     3     3     3     3     3     2     3\n",
       "     3     3     2     2     3     2     2     2\n"
      ]
     },
     "execution_count": 136,
     "metadata": {},
     "output_type": "execute_result"
    },
    {
     "data": {
      "text/html": [
       "<html><body><pre>ans = 10x8 double\n",
       "     2     2     2     2     2     2     3     2\n",
       "     3     2     3     2     3     3     3     2\n",
       "     3     3     2     2     2     2     2     3\n",
       "     3     3     3     3     3     2     3     3\n",
       "     3     3     2     2     3     2     2     2\n",
       "     2     2     3     3     3     2     2     2\n",
       "     3     3     2     3     2     3     2     2\n",
       "     3     2     3     3     2     3     2     3\n",
       "     2     2     3     2     2     3     2     2\n",
       "     3     2     3     2     3     2     2     2\n",
       "</pre></body></html>"
      ],
      "text/plain": [
       "ans = 10x8 double\n",
       "     2     2     2     2     2     2     3     2\n",
       "     3     2     3     2     3     3     3     2\n",
       "     3     3     2     2     2     2     2     3\n",
       "     3     3     3     3     3     2     3     3\n",
       "     3     3     2     2     3     2     2     2\n",
       "     2     2     3     3     3     2     2     2\n",
       "     3     3     2     3     2     3     2     2\n",
       "     3     2     3     3     2     3     2     3\n",
       "     2     2     3     2     2     3     2     2\n",
       "     3     2     3     2     3     2     2     2\n"
      ]
     },
     "execution_count": 136,
     "metadata": {},
     "output_type": "execute_result"
    },
    {
     "data": {
      "text/html": [
       "<html><body><pre>ans = 10x8 double\n",
       "     1     0     1     1     1     0     0     1\n",
       "     0     0     0     1     0     0     1     0\n",
       "     0     1     1     0     1     0     0     1\n",
       "     0     0     0     0     1     0     0     1\n",
       "     0     0     1     0     0     1     1     0\n",
       "     0     0     0     0     1     0     1     0\n",
       "     1     1     0     1     1     0     0     0\n",
       "     1     1     1     1     1     0     0     0\n",
       "     1     1     1     1     1     0     0     0\n",
       "     0     0     0     1     1     0     0     1\n",
       "</pre></body></html>"
      ],
      "text/plain": [
       "ans = 10x8 double\n",
       "     1     0     1     1     1     0     0     1\n",
       "     0     0     0     1     0     0     1     0\n",
       "     0     1     1     0     1     0     0     1\n",
       "     0     0     0     0     1     0     0     1\n",
       "     0     0     1     0     0     1     1     0\n",
       "     0     0     0     0     1     0     1     0\n",
       "     1     1     0     1     1     0     0     0\n",
       "     1     1     1     1     1     0     0     0\n",
       "     1     1     1     1     1     0     0     0\n",
       "     0     0     0     1     1     0     0     1\n"
      ]
     },
     "execution_count": 136,
     "metadata": {},
     "output_type": "execute_result"
    }
   ],
   "source": [
    "a = 2;\n",
    "b = 3;\n",
    "\n",
    "% zde napište kód\n",
    "m = 10;\n",
    "n = 8;\n",
    "rng('default')\n",
    "round(a + (b - a).*rand(m,n))\n",
    "\n",
    "%alebo\n",
    "randi(b - a + 1, m, n) + a - 1\n",
    "randi(2, m, n) - 1"
   ]
  },
  {
   "cell_type": "markdown",
   "id": "08d2c84e-98b4-459f-8e47-c84dfe131f14",
   "metadata": {},
   "source": [
    "<div class=\"alert alert-block alert-success\">\n",
    "    \n",
    "**18.** Zjistěte velikost matice **A** příkazem **size**. Zjistěte také jaký je počet pouze řádků a pouze sloupců.\n",
    "\n",
    "</div>"
   ]
  },
  {
   "cell_type": "code",
   "execution_count": 151,
   "id": "dd9e6f8e-acc9-414e-8f7a-768ba98fab7a",
   "metadata": {
    "tags": []
   },
   "outputs": [
    {
     "data": {
      "text/html": [
       "<html><body><pre>ans = 1x2 double\n",
       "     2     3\n",
       "</pre></body></html>"
      ],
      "text/plain": [
       "ans = 1x2 double\n",
       "     2     3\n"
      ]
     },
     "execution_count": 151,
     "metadata": {},
     "output_type": "execute_result"
    }
   ],
   "source": [
    "size(N)"
   ]
  },
  {
   "cell_type": "code",
   "execution_count": 156,
   "id": "9875f472-3d21-4b34-8759-1c40cb33567e",
   "metadata": {
    "tags": []
   },
   "outputs": [
    {
     "data": {
      "text/html": [
       "<html><body><pre>rows = 2</pre></body></html>"
      ],
      "text/plain": [
       "rows = 2"
      ]
     },
     "execution_count": 156,
     "metadata": {},
     "output_type": "execute_result"
    },
    {
     "data": {
      "text/html": [
       "<html><body><pre>cols = 3</pre></body></html>"
      ],
      "text/plain": [
       "cols = 3"
      ]
     },
     "execution_count": 156,
     "metadata": {},
     "output_type": "execute_result"
    }
   ],
   "source": [
    "[rows, cols] = size(N);\n",
    "rows\n",
    "cols"
   ]
  },
  {
   "cell_type": "code",
   "execution_count": 157,
   "id": "c4c73617-e2f3-4fc4-9079-ba99ecc83d66",
   "metadata": {
    "tags": []
   },
   "outputs": [
    {
     "data": {
      "text/html": [
       "<html><body><pre>ans = 2</pre></body></html>"
      ],
      "text/plain": [
       "ans = 2"
      ]
     },
     "execution_count": 157,
     "metadata": {},
     "output_type": "execute_result"
    }
   ],
   "source": [
    "size(N, 1)"
   ]
  },
  {
   "cell_type": "code",
   "execution_count": 158,
   "id": "5539b0c3-84d2-4f72-b99c-377b7733043c",
   "metadata": {
    "tags": []
   },
   "outputs": [
    {
     "data": {
      "text/html": [
       "<html><body><pre>ans = 3</pre></body></html>"
      ],
      "text/plain": [
       "ans = 3"
      ]
     },
     "execution_count": 158,
     "metadata": {},
     "output_type": "execute_result"
    }
   ],
   "source": [
    "size(N,2)"
   ]
  },
  {
   "cell_type": "markdown",
   "id": "67417b9b-a939-4fcc-a65f-c7f06f1aa1f9",
   "metadata": {
    "tags": []
   },
   "source": [
    "<div class=\"alert alert-block alert-success\">\n",
    "    \n",
    "**19.** Vytvořte vektor **x** posloupnosti celých čísel od -10 do 10. \n",
    "\n",
    "</div>"
   ]
  },
  {
   "cell_type": "code",
   "execution_count": 159,
   "id": "42aec963-1e6a-41b0-91b0-4ddb78a1ebbf",
   "metadata": {
    "tags": []
   },
   "outputs": [
    {
     "data": {
      "text/html": [
       "<html><body><pre>x = 1x21 double\n",
       "   -10    -9    -8    -7    -6    -5    -4    -3    -2    -1     0     1     2     3     4     5     6     7     8     9    10\n",
       "</pre></body></html>"
      ],
      "text/plain": [
       "x = 1x21 double\n",
       "   -10    -9    -8    -7    -6    -5    -4    -3    -2    -1     0     1     2     3     4     5     6     7     8     9    10\n"
      ]
     },
     "execution_count": 159,
     "metadata": {},
     "output_type": "execute_result"
    }
   ],
   "source": [
    "x = -10:10"
   ]
  },
  {
   "cell_type": "markdown",
   "id": "e998c5dd-358c-4329-9bb2-ba3420f5c274",
   "metadata": {
    "tags": []
   },
   "source": [
    "<div class=\"alert alert-block alert-success\">\n",
    "    \n",
    "**20.** Vytvořte vektor **y** posloupnosti celých čísel od -10 do 10 s krokem 2.\n",
    "\n",
    "</div>"
   ]
  },
  {
   "cell_type": "code",
   "execution_count": 160,
   "id": "f8803c75-df04-441b-bcc5-3838c1d4b8cb",
   "metadata": {
    "tags": []
   },
   "outputs": [
    {
     "data": {
      "text/html": [
       "<html><body><pre>y = 1x11 double\n",
       "   -10    -8    -6    -4    -2     0     2     4     6     8    10\n",
       "</pre></body></html>"
      ],
      "text/plain": [
       "y = 1x11 double\n",
       "   -10    -8    -6    -4    -2     0     2     4     6     8    10\n"
      ]
     },
     "execution_count": 160,
     "metadata": {},
     "output_type": "execute_result"
    }
   ],
   "source": [
    " y = -10:2:10"
   ]
  },
  {
   "cell_type": "markdown",
   "id": "bc80e00a-c63c-45e9-8463-25229e2ef283",
   "metadata": {
    "tags": []
   },
   "source": [
    "<div class=\"alert alert-block alert-success\">\n",
    "    \n",
    "**21.** Vytvořte vektor **z** posloupnosti celých čísel od -16 do 16 s krokem 4.\n",
    "\n",
    "</div>"
   ]
  },
  {
   "cell_type": "code",
   "execution_count": 161,
   "id": "a5fa3076-9846-43fe-9805-a686524faf4c",
   "metadata": {
    "tags": []
   },
   "outputs": [
    {
     "data": {
      "text/html": [
       "<html><body><pre>z = 1x9 double\n",
       "   -16   -12    -8    -4     0     4     8    12    16\n",
       "</pre></body></html>"
      ],
      "text/plain": [
       "z = 1x9 double\n",
       "   -16   -12    -8    -4     0     4     8    12    16\n"
      ]
     },
     "execution_count": 161,
     "metadata": {},
     "output_type": "execute_result"
    }
   ],
   "source": [
    "z = -16:4:16"
   ]
  },
  {
   "cell_type": "markdown",
   "id": "b220c18a-5390-4185-adcf-b35b5a217232",
   "metadata": {
    "tags": []
   },
   "source": [
    "<div class=\"alert alert-block alert-success\">\n",
    "    \n",
    "**21.** Zobrazte si poslední element tohoto vektoru. \n",
    "\n",
    "</div>"
   ]
  },
  {
   "cell_type": "code",
   "execution_count": 162,
   "id": "41dc8586-2455-423a-af6e-6092835fac49",
   "metadata": {
    "tags": []
   },
   "outputs": [
    {
     "data": {
      "text/html": [
       "<html><body><pre>ans = 16</pre></body></html>"
      ],
      "text/plain": [
       "ans = 16"
      ]
     },
     "execution_count": 162,
     "metadata": {},
     "output_type": "execute_result"
    }
   ],
   "source": [
    "% jednoduché řešení\n",
    "z(end)"
   ]
  },
  {
   "cell_type": "markdown",
   "id": "ac857830-3283-483b-ba6b-8c6f63d86966",
   "metadata": {
    "tags": []
   },
   "source": [
    "<div class=\"alert alert-block alert-success\">\n",
    "    \n",
    "**22.** Zobrazte si první element tohoto vektoru.\n",
    "\n",
    "</div>"
   ]
  },
  {
   "cell_type": "code",
   "execution_count": 166,
   "id": "37ae6a8b-f893-4e81-8049-6f002e1a7eb8",
   "metadata": {
    "tags": []
   },
   "outputs": [
    {
     "data": {
      "text/html": [
       "<html><body><pre>ans = -16</pre></body></html>"
      ],
      "text/plain": [
       "ans = -16"
      ]
     },
     "execution_count": 166,
     "metadata": {},
     "output_type": "execute_result"
    }
   ],
   "source": [
    "z(1)"
   ]
  },
  {
   "cell_type": "markdown",
   "id": "abec6978-5fff-4e90-9996-3a79bd09e5ea",
   "metadata": {
    "tags": []
   },
   "source": [
    "<div class=\"alert alert-block alert-success\">\n",
    "    \n",
    "**23.** Zobrazte si první tři elementy tohoto vektoru. \n",
    "\n",
    "</div>"
   ]
  },
  {
   "cell_type": "code",
   "execution_count": 167,
   "id": "401d33f2-a617-4e7e-85fa-6daf119ac78e",
   "metadata": {
    "scrolled": true,
    "tags": []
   },
   "outputs": [
    {
     "data": {
      "text/html": [
       "<html><body><pre>ans = 1x3 double\n",
       "   -16   -12    -8\n",
       "</pre></body></html>"
      ],
      "text/plain": [
       "ans = 1x3 double\n",
       "   -16   -12    -8\n"
      ]
     },
     "execution_count": 167,
     "metadata": {},
     "output_type": "execute_result"
    }
   ],
   "source": [
    "z(1:3)"
   ]
  },
  {
   "cell_type": "code",
   "execution_count": 168,
   "id": "c97d5015-f4a1-4ec2-a955-ddbe84d41c7a",
   "metadata": {
    "tags": []
   },
   "outputs": [
    {
     "data": {
      "text/html": [
       "<html><body><pre>ans = 1x3 double\n",
       "   -16   -12    -8\n",
       "</pre></body></html>"
      ],
      "text/plain": [
       "ans = 1x3 double\n",
       "   -16   -12    -8\n"
      ]
     },
     "execution_count": 168,
     "metadata": {},
     "output_type": "execute_result"
    }
   ],
   "source": [
    "z([1, 2, 3])"
   ]
  },
  {
   "cell_type": "code",
   "execution_count": 169,
   "id": "86bbe712-d17a-470e-977d-c28f22d4219c",
   "metadata": {
    "tags": []
   },
   "outputs": [
    {
     "data": {
      "text/html": [
       "<html><body><pre>ans = 1x3 double\n",
       "   -16   -12    -8\n",
       "</pre></body></html>"
      ],
      "text/plain": [
       "ans = 1x3 double\n",
       "   -16   -12    -8\n"
      ]
     },
     "execution_count": 169,
     "metadata": {},
     "output_type": "execute_result"
    }
   ],
   "source": [
    "z([1 2 3])"
   ]
  },
  {
   "cell_type": "markdown",
   "id": "9d65c3a1-94d7-4cb8-866d-a43381ceb98e",
   "metadata": {
    "tags": []
   },
   "source": [
    "<div class=\"alert alert-block alert-success\">\n",
    "    \n",
    "**24.** Zobrazte poslední tři elementy tohoto vektoru. Vyřešte tento příklad **bez použití číslic**.\n",
    "\n",
    "</div>"
   ]
  },
  {
   "cell_type": "code",
   "execution_count": 171,
   "id": "1850e9ac-a57b-4b5b-ba4a-380651045ee9",
   "metadata": {
    "tags": []
   },
   "outputs": [
    {
     "data": {
      "text/html": [
       "<html><body><pre>ans = 1x3 double\n",
       "     8    12    16\n",
       "</pre></body></html>"
      ],
      "text/plain": [
       "ans = 1x3 double\n",
       "     8    12    16\n"
      ]
     },
     "execution_count": 171,
     "metadata": {},
     "output_type": "execute_result"
    }
   ],
   "source": [
    "z([length(z)-2 length(z)-1 length(z)])"
   ]
  },
  {
   "cell_type": "markdown",
   "id": "511020a5-653f-4919-b120-d267854fbe60",
   "metadata": {},
   "source": [
    "<div class=\"alert alert-block alert-danger\">\n",
    "    \n",
    "V MATLABU existuje typ proměnné **logical**, který v sobě zachovává hodnoty **TRUE** a **FALSE**. Hodnota **TRUE** se chová jako číslo 1 a hodnota **FALSE** jako 0.\n",
    "\n",
    "</div>"
   ]
  },
  {
   "cell_type": "code",
   "execution_count": 172,
   "id": "484e89ed-bfc0-47ac-aee1-253145a80475",
   "metadata": {
    "tags": []
   },
   "outputs": [
    {
     "data": {
      "text/html": [
       "<html><body><pre>x = 1</pre></body></html>"
      ],
      "text/plain": [
       "x = 1"
      ]
     },
     "execution_count": 172,
     "metadata": {},
     "output_type": "execute_result"
    }
   ],
   "source": [
    "x = 1"
   ]
  },
  {
   "cell_type": "code",
   "execution_count": 173,
   "id": "156c8d2f-fd77-4cf5-9138-f94c6293469a",
   "metadata": {
    "tags": []
   },
   "outputs": [
    {
     "data": {
      "text/html": [
       "<html><body><pre>ans = logical\n",
       "   0\n",
       "</pre></body></html>"
      ],
      "text/plain": [
       "ans = logical\n",
       "   0\n"
      ]
     },
     "execution_count": 173,
     "metadata": {},
     "output_type": "execute_result"
    }
   ],
   "source": [
    "x > 2"
   ]
  },
  {
   "cell_type": "code",
   "execution_count": 174,
   "id": "677d8e82-2759-48ba-9280-e06089a818c5",
   "metadata": {
    "tags": []
   },
   "outputs": [
    {
     "data": {
      "text/html": [
       "<html><body><pre>ans = 3</pre></body></html>"
      ],
      "text/plain": [
       "ans = 3"
      ]
     },
     "execution_count": 174,
     "metadata": {},
     "output_type": "execute_result"
    }
   ],
   "source": [
    "(x > 2) + 3"
   ]
  },
  {
   "cell_type": "code",
   "execution_count": 175,
   "id": "3c37d651-2733-4772-957a-ef7210773021",
   "metadata": {
    "tags": []
   },
   "outputs": [
    {
     "data": {
      "text/html": [
       "<html><body><pre>ans = logical\n",
       "   1\n",
       "</pre></body></html>"
      ],
      "text/plain": [
       "ans = logical\n",
       "   1\n"
      ]
     },
     "execution_count": 175,
     "metadata": {},
     "output_type": "execute_result"
    }
   ],
   "source": [
    "x > - 2"
   ]
  },
  {
   "cell_type": "code",
   "execution_count": 176,
   "id": "318beafd-e9a9-40b6-9003-2c8aeb606db1",
   "metadata": {
    "tags": []
   },
   "outputs": [
    {
     "data": {
      "text/html": [
       "<html><body><pre>ans = 7</pre></body></html>"
      ],
      "text/plain": [
       "ans = 7"
      ]
     },
     "execution_count": 176,
     "metadata": {},
     "output_type": "execute_result"
    }
   ],
   "source": [
    "(x > - 2) * 7"
   ]
  },
  {
   "cell_type": "markdown",
   "id": "eb38f3c7-0b18-4f55-8ad0-789cff7e9583",
   "metadata": {},
   "source": [
    "<div class=\"alert alert-block alert-success\">\n",
    "    \n",
    "**26.** Z vektoru **z** vyberte pouze záporné elementy.\n",
    "\n",
    "</div>"
   ]
  },
  {
   "cell_type": "code",
   "execution_count": 177,
   "id": "d4505c4e-32de-481f-80eb-c7bd56f80dca",
   "metadata": {
    "scrolled": true,
    "tags": []
   },
   "outputs": [
    {
     "data": {
      "text/html": [
       "<html><body><pre>ans = 1x4 double\n",
       "   -16   -12    -8    -4\n",
       "</pre></body></html>"
      ],
      "text/plain": [
       "ans = 1x4 double\n",
       "   -16   -12    -8    -4\n"
      ]
     },
     "execution_count": 177,
     "metadata": {},
     "output_type": "execute_result"
    }
   ],
   "source": [
    "z(z < 0)"
   ]
  },
  {
   "cell_type": "markdown",
   "id": "dcf69216-193c-4263-aa70-7b351b1cfb2f",
   "metadata": {},
   "source": [
    "<div class=\"alert alert-block alert-danger\">\n",
    "   \n",
    "MATLAB používá tyto symboly pro (ne)rovnosti:    \n",
    "    \n",
    "- **>** větší\n",
    "- **<** menší\n",
    "- **==** rovná se\n",
    "- **>=** větší nebo rovno\n",
    "- **<=** menší nebo rovno\n",
    "- **~=** nerovná se\n",
    "\n",
    "</div>"
   ]
  },
  {
   "cell_type": "markdown",
   "id": "12cd268d-1463-4eca-b44b-4c2936a521ea",
   "metadata": {
    "tags": []
   },
   "source": [
    "<div class=\"alert alert-block alert-success\">\n",
    "    \n",
    "**27.** Z vektoru **z** vyberte všechny prvky kromě -8.\n",
    "\n",
    "</div>"
   ]
  },
  {
   "cell_type": "code",
   "execution_count": 178,
   "id": "aa96fe10-8980-4eee-9968-55b309e38e48",
   "metadata": {
    "tags": []
   },
   "outputs": [
    {
     "data": {
      "text/html": [
       "<html><body><pre>ans = 1x8 double\n",
       "   -16   -12    -4     0     4     8    12    16\n",
       "</pre></body></html>"
      ],
      "text/plain": [
       "ans = 1x8 double\n",
       "   -16   -12    -4     0     4     8    12    16\n"
      ]
     },
     "execution_count": 178,
     "metadata": {},
     "output_type": "execute_result"
    }
   ],
   "source": [
    "z(z~=-8)"
   ]
  },
  {
   "cell_type": "markdown",
   "id": "08e10589-5ca7-4352-bf57-f321c4b1ebf0",
   "metadata": {
    "tags": []
   },
   "source": [
    "<div class=\"alert alert-block alert-success\">\n",
    "    \n",
    "**28.** Z vektoru **z** vyberte větší než -8 a zároveň **&** menší než 8.\n",
    "\n",
    "</div>"
   ]
  },
  {
   "cell_type": "code",
   "execution_count": 179,
   "id": "87325211-bfe3-4900-8f29-fa86a62a625b",
   "metadata": {
    "tags": []
   },
   "outputs": [
    {
     "data": {
      "text/html": [
       "<html><body><pre>ans = 1x3 double\n",
       "    -4     0     4\n",
       "</pre></body></html>"
      ],
      "text/plain": [
       "ans = 1x3 double\n",
       "    -4     0     4\n"
      ]
     },
     "execution_count": 179,
     "metadata": {},
     "output_type": "execute_result"
    }
   ],
   "source": [
    "z(z < 8 & z > -8)"
   ]
  },
  {
   "cell_type": "markdown",
   "id": "276cc574-1fec-4f4f-8a6d-22d9c7550fee",
   "metadata": {},
   "source": [
    "<div class=\"alert alert-block alert-success\">\n",
    "    \n",
    "**29.** Vytvořte vektor násobilky čísla 3.\n",
    "\n",
    "</div>"
   ]
  },
  {
   "cell_type": "code",
   "execution_count": 180,
   "id": "7089c17f-f519-4bd5-8aa4-2edcfc6199e4",
   "metadata": {
    "tags": []
   },
   "outputs": [
    {
     "data": {
      "text/html": [
       "<html><body><pre>z = 1x11 double\n",
       "     0     3     6     9    12    15    18    21    24    27    30\n",
       "</pre></body></html>"
      ],
      "text/plain": [
       "z = 1x11 double\n",
       "     0     3     6     9    12    15    18    21    24    27    30\n"
      ]
     },
     "execution_count": 180,
     "metadata": {},
     "output_type": "execute_result"
    }
   ],
   "source": [
    "z = 0 : 3 : 30"
   ]
  },
  {
   "cell_type": "markdown",
   "id": "e0aaa203-94ef-40d2-a7d7-dbadb9703799",
   "metadata": {
    "tags": []
   },
   "source": [
    "<div class=\"alert alert-block alert-success\">\n",
    "    \n",
    "**30.** Vytvořte matici **A** rozměrů $4 \\times 5$, jejíž prvky jsou pseudonáhodná celá čísla z intervalu $[-15, 25]$.\n",
    "\n",
    "</div>"
   ]
  },
  {
   "cell_type": "code",
   "execution_count": 5,
   "id": "4e67d49c-ecd1-490e-bda3-1a91deaea979",
   "metadata": {
    "tags": []
   },
   "outputs": [
    {
     "data": {
      "text/html": [
       "<html><body><pre>A = 4x5 double\n",
       "    21    24    -4    13    15\n",
       "    23    -2     9    -1    23\n",
       "    17    18    18   -13    -6\n",
       "    -5    13     0    16    -2\n",
       "</pre></body></html>"
      ],
      "text/plain": [
       "A = 4x5 double\n",
       "    21    24    -4    13    15\n",
       "    23    -2     9    -1    23\n",
       "    17    18    18   -13    -6\n",
       "    -5    13     0    16    -2\n"
      ]
     },
     "execution_count": 5,
     "metadata": {},
     "output_type": "execute_result"
    }
   ],
   "source": [
    "A = round(-15 + 40 * rand(4, 5))"
   ]
  },
  {
   "cell_type": "markdown",
   "id": "bce9408c-935f-4d8e-9a00-b4e53f500e7c",
   "metadata": {
    "tags": []
   },
   "source": [
    "<div class=\"alert alert-block alert-success\">\n",
    "    \n",
    "**31.** Zkuste vypsat některé prvky matice **A**. Rozmyslete si, jak výběr prvků funguje.\n",
    "\n",
    "</div>"
   ]
  },
  {
   "cell_type": "code",
   "execution_count": 7,
   "id": "c4d0b597-223a-4ada-8e1f-dd2d5cf63399",
   "metadata": {
    "tags": []
   },
   "outputs": [
    {
     "data": {
      "text/html": [
       "<html><body><pre>A = 4x5 double\n",
       "    21    24    -4    13    15\n",
       "    23    -2     9    -1    23\n",
       "    17    18    18   -13    -6\n",
       "    -5    13     0    16    -2\n",
       "</pre></body></html>"
      ],
      "text/plain": [
       "A = 4x5 double\n",
       "    21    24    -4    13    15\n",
       "    23    -2     9    -1    23\n",
       "    17    18    18   -13    -6\n",
       "    -5    13     0    16    -2\n"
      ]
     },
     "execution_count": 7,
     "metadata": {},
     "output_type": "execute_result"
    }
   ],
   "source": [
    "A"
   ]
  },
  {
   "cell_type": "code",
   "execution_count": 8,
   "id": "d21e43d6-338a-4711-98f3-eaba977fcff5",
   "metadata": {
    "tags": []
   },
   "outputs": [
    {
     "data": {
      "text/html": [
       "<html><body><pre>ans = -13</pre></body></html>"
      ],
      "text/plain": [
       "ans = -13"
      ]
     },
     "execution_count": 8,
     "metadata": {},
     "output_type": "execute_result"
    }
   ],
   "source": [
    "A(15)\n",
    "% prvok [3,4]"
   ]
  },
  {
   "cell_type": "code",
   "execution_count": 10,
   "id": "1097f68e-cb8d-4416-8642-989bd785c79e",
   "metadata": {
    "tags": []
   },
   "outputs": [
    {
     "data": {
      "text/html": [
       "<html><body><pre>ans = 23</pre></body></html>"
      ],
      "text/plain": [
       "ans = 23"
      ]
     },
     "execution_count": 10,
     "metadata": {},
     "output_type": "execute_result"
    }
   ],
   "source": [
    "A(2)"
   ]
  },
  {
   "cell_type": "code",
   "execution_count": 11,
   "id": "03358d02-f0fc-4e71-a783-dc00e785e9a6",
   "metadata": {
    "tags": []
   },
   "outputs": [
    {
     "data": {
      "text/html": [
       "<html><body><pre>ans = 4x1 double\n",
       "    24\n",
       "    -2\n",
       "    18\n",
       "    13\n",
       "</pre></body></html>"
      ],
      "text/plain": [
       "ans = 4x1 double\n",
       "    24\n",
       "    -2\n",
       "    18\n",
       "    13\n"
      ]
     },
     "execution_count": 11,
     "metadata": {},
     "output_type": "execute_result"
    }
   ],
   "source": [
    "A(:, 2)\n",
    "% [vsetky riadky, druhy stlpec]"
   ]
  },
  {
   "cell_type": "code",
   "execution_count": 12,
   "id": "27d25435-d550-4973-84c7-47f4eaec8709",
   "metadata": {
    "tags": []
   },
   "outputs": [
    {
     "data": {
      "text/html": [
       "<html><body><pre>ans = 1x5 double\n",
       "    21    24    -4    13    15\n",
       "</pre></body></html>"
      ],
      "text/plain": [
       "ans = 1x5 double\n",
       "    21    24    -4    13    15\n"
      ]
     },
     "execution_count": 12,
     "metadata": {},
     "output_type": "execute_result"
    }
   ],
   "source": [
    "A(1, :)\n",
    "% [1. riadok, vsetky stlpce]"
   ]
  },
  {
   "cell_type": "code",
   "execution_count": 13,
   "id": "3be69131-ed7f-4420-8bbd-8a1772e720fc",
   "metadata": {
    "tags": []
   },
   "outputs": [
    {
     "data": {
      "text/html": [
       "<html><body><pre>ans = 4x2 double\n",
       "    21    24\n",
       "    23    -2\n",
       "    17    18\n",
       "    -5    13\n",
       "</pre></body></html>"
      ],
      "text/plain": [
       "ans = 4x2 double\n",
       "    21    24\n",
       "    23    -2\n",
       "    17    18\n",
       "    -5    13\n"
      ]
     },
     "execution_count": 13,
     "metadata": {},
     "output_type": "execute_result"
    }
   ],
   "source": [
    "A(:, [1, 2])\n",
    "% [vsetky riadky, 1. a 2. stlpec]"
   ]
  },
  {
   "cell_type": "code",
   "execution_count": 14,
   "id": "bb7ad739-a105-4877-9f42-24298ae560b2",
   "metadata": {
    "tags": []
   },
   "outputs": [
    {
     "data": {
      "text/html": [
       "<html><body><pre>ans = -13</pre></body></html>"
      ],
      "text/plain": [
       "ans = -13"
      ]
     },
     "execution_count": 14,
     "metadata": {},
     "output_type": "execute_result"
    }
   ],
   "source": [
    "A(3, 4)\n",
    "% [3,4]"
   ]
  },
  {
   "cell_type": "code",
   "execution_count": 15,
   "id": "550eb913-538a-401d-9544-6f82c4619331",
   "metadata": {
    "tags": []
   },
   "outputs": [
    {
     "data": {
      "text/html": [
       "<html><body><pre>ans = 20x1 double\n",
       "    21\n",
       "    23\n",
       "    17\n",
       "    -5\n",
       "    24\n",
       "    -2\n",
       "    18\n",
       "    13\n",
       "    -4\n",
       "     9\n",
       "...</pre></body></html>"
      ],
      "text/plain": [
       "ans = 20x1 double\n",
       "    21\n",
       "    23\n",
       "    17\n",
       "    -5\n",
       "    24\n",
       "    -2\n",
       "    18\n",
       "    13\n",
       "    -4\n",
       "     9\n",
       "..."
      ]
     },
     "execution_count": 15,
     "metadata": {},
     "output_type": "execute_result"
    }
   ],
   "source": [
    "A(:)\n",
    "% do jedneho stlpca postupne stlpce za sebou"
   ]
  },
  {
   "cell_type": "markdown",
   "id": "0eb941c4-723f-4e66-a2f4-0dbf848b0aa2",
   "metadata": {},
   "source": [
    "<div class=\"alert alert-block alert-success\">\n",
    "    \n",
    "**32.** Vyberte pouze sudé řádky matice **A**.\n",
    "\n",
    "</div>"
   ]
  },
  {
   "cell_type": "code",
   "execution_count": 16,
   "id": "7ca4508f-fc59-479b-9ed3-c516ab55e11c",
   "metadata": {
    "tags": []
   },
   "outputs": [
    {
     "data": {
      "text/html": [
       "<html><body><pre>ans = 2x5 double\n",
       "    23    -2     9    -1    23\n",
       "    -5    13     0    16    -2\n",
       "</pre></body></html>"
      ],
      "text/plain": [
       "ans = 2x5 double\n",
       "    23    -2     9    -1    23\n",
       "    -5    13     0    16    -2\n"
      ]
     },
     "execution_count": 16,
     "metadata": {},
     "output_type": "execute_result"
    }
   ],
   "source": [
    "A(2:2:end, :) % od druheho riadku kazdy druhy riadok po koniec, vsetky stlpce"
   ]
  },
  {
   "cell_type": "markdown",
   "id": "e46b21ec-8e67-4a41-8a37-00df2e3c035d",
   "metadata": {},
   "source": [
    "<div class=\"alert alert-block alert-success\">\n",
    "    \n",
    "**33.** Do proměnné **B** uložte submatici matice **A** vytvořenou z jejich sudých řádků a lichých sloupců.\n",
    "\n",
    "</div>"
   ]
  },
  {
   "cell_type": "code",
   "execution_count": 17,
   "id": "ed8a2bb4-7c9c-487d-80f4-641dd6e25e64",
   "metadata": {
    "tags": []
   },
   "outputs": [
    {
     "data": {
      "text/html": [
       "<html><body><pre>B = 2x3 double\n",
       "    23     9    23\n",
       "    -5     0    -2\n",
       "</pre></body></html>"
      ],
      "text/plain": [
       "B = 2x3 double\n",
       "    23     9    23\n",
       "    -5     0    -2\n"
      ]
     },
     "execution_count": 17,
     "metadata": {},
     "output_type": "execute_result"
    }
   ],
   "source": [
    "B = A(2:2:end, 1:2:end)"
   ]
  },
  {
   "cell_type": "markdown",
   "id": "1ad53fb1-e113-4e4e-8061-f4b8d4d63c69",
   "metadata": {},
   "source": [
    "<div class=\"alert alert-block alert-success\">\n",
    "    \n",
    "**34.** Na tytéž pozice matice **A** uložte nuly. Své řešení zkontrolujte zobrazením matice **A**.\n",
    "\n",
    "</div>"
   ]
  },
  {
   "cell_type": "code",
   "execution_count": 18,
   "id": "08deb321-75c9-4768-bee2-1a4d036e4233",
   "metadata": {
    "tags": []
   },
   "outputs": [],
   "source": [
    "A(2:2:end, 1:2:end) = 0;"
   ]
  },
  {
   "cell_type": "code",
   "execution_count": 19,
   "id": "42642076-7b60-49c2-a241-b673b928f9c1",
   "metadata": {
    "tags": []
   },
   "outputs": [
    {
     "data": {
      "text/html": [
       "<html><body><pre>A = 4x5 double\n",
       "    21    24    -4    13    15\n",
       "     0    -2     0    -1     0\n",
       "    17    18    18   -13    -6\n",
       "     0    13     0    16     0\n",
       "</pre></body></html>"
      ],
      "text/plain": [
       "A = 4x5 double\n",
       "    21    24    -4    13    15\n",
       "     0    -2     0    -1     0\n",
       "    17    18    18   -13    -6\n",
       "     0    13     0    16     0\n"
      ]
     },
     "execution_count": 19,
     "metadata": {},
     "output_type": "execute_result"
    }
   ],
   "source": [
    "A"
   ]
  },
  {
   "cell_type": "markdown",
   "id": "62928fe5-a137-454d-9588-c0d3b913332d",
   "metadata": {
    "tags": []
   },
   "source": [
    "<div class=\"alert alert-block alert-success\">\n",
    "    \n",
    "**35.** Zjistěte dimenze matice **A**.\n",
    "\n",
    "</div>"
   ]
  },
  {
   "cell_type": "code",
   "execution_count": 20,
   "id": "f5e259b0-6afb-4eb6-bdc9-d1f2593e5934",
   "metadata": {
    "tags": []
   },
   "outputs": [
    {
     "data": {
      "text/html": [
       "<html><body><pre>ans = 1x2 double\n",
       "     4     5\n",
       "</pre></body></html>"
      ],
      "text/plain": [
       "ans = 1x2 double\n",
       "     4     5\n"
      ]
     },
     "execution_count": 20,
     "metadata": {},
     "output_type": "execute_result"
    }
   ],
   "source": [
    "size(A)"
   ]
  },
  {
   "cell_type": "markdown",
   "id": "9fa4f1b0-da2c-4fd1-9e22-f1a03d45feb2",
   "metadata": {},
   "source": [
    "<div class=\"alert alert-block alert-success\">\n",
    "    \n",
    "**36.** Co se stane když provedete příkaz **A(:, 6) = 3**?\n",
    "\n",
    "</div>"
   ]
  },
  {
   "cell_type": "code",
   "execution_count": 21,
   "id": "48faf6c4-7227-428e-8396-94cc8a4a6254",
   "metadata": {
    "tags": []
   },
   "outputs": [
    {
     "data": {
      "text/html": [
       "<html><body><pre>A = 4x6 double\n",
       "    21    24    -4    13    15     3\n",
       "     0    -2     0    -1     0     3\n",
       "    17    18    18   -13    -6     3\n",
       "     0    13     0    16     0     3\n",
       "</pre></body></html>"
      ],
      "text/plain": [
       "A = 4x6 double\n",
       "    21    24    -4    13    15     3\n",
       "     0    -2     0    -1     0     3\n",
       "    17    18    18   -13    -6     3\n",
       "     0    13     0    16     0     3\n"
      ]
     },
     "execution_count": 21,
     "metadata": {},
     "output_type": "execute_result"
    }
   ],
   "source": [
    "A(:, 6) = 3\n",
    "% do vsetkych riadkov sa prida 6 stlpec a nastavi sa hodnota na 3"
   ]
  },
  {
   "cell_type": "markdown",
   "id": "d7cf224f-293f-46c8-93cd-7de2c61de3f2",
   "metadata": {
    "tags": []
   },
   "source": [
    "<div class=\"alert alert-block alert-success\">\n",
    "    \n",
    "**37.** Opravte matici **A** do předchozí podoby.\n",
    "\n",
    "</div>"
   ]
  },
  {
   "cell_type": "code",
   "execution_count": 22,
   "id": "2962e59c-3327-4d43-98c4-847bc4613a61",
   "metadata": {
    "tags": []
   },
   "outputs": [
    {
     "data": {
      "text/html": [
       "<html><body><pre>A = 4x5 double\n",
       "    21    24    -4    13    15\n",
       "     0    -2     0    -1     0\n",
       "    17    18    18   -13    -6\n",
       "     0    13     0    16     0\n",
       "</pre></body></html>"
      ],
      "text/plain": [
       "A = 4x5 double\n",
       "    21    24    -4    13    15\n",
       "     0    -2     0    -1     0\n",
       "    17    18    18   -13    -6\n",
       "     0    13     0    16     0\n"
      ]
     },
     "execution_count": 22,
     "metadata": {},
     "output_type": "execute_result"
    }
   ],
   "source": [
    "A(:, 6) = []"
   ]
  },
  {
   "cell_type": "markdown",
   "id": "3c2bf55c-2375-456d-8bb1-7a49a8d7a5f9",
   "metadata": {},
   "source": [
    "<div class=\"alert alert-block alert-success\">\n",
    "    \n",
    "**38.** Které z následujících příkazů mají smysl? Proč? *Pokud odpověď znáte, nemusíte procházet všechny příkazy.\n",
    "- B + A\n",
    "- B * A\n",
    "- A * B\n",
    "- [B, A]\n",
    "- [B', A]\n",
    "- [B, A']\n",
    "- [B' A]\n",
    "- [B'; A]\n",
    "- [B; A']\n",
    "\n",
    "</div>"
   ]
  },
  {
   "cell_type": "code",
   "execution_count": 23,
   "id": "6872dc2b-e0fe-4571-9bbb-fa183268ac51",
   "metadata": {
    "tags": []
   },
   "outputs": [
    {
     "name": "stdout",
     "output_type": "stream",
     "text": [
      "    21    24    -4    13    15\n",
      "     0    -2     0    -1     0\n",
      "    17    18    18   -13    -6\n",
      "     0    13     0    16     0\n",
      "\n",
      "    23     9    23\n",
      "    -5     0    -2\n",
      "\n"
     ]
    }
   ],
   "source": [
    "disp(A)\n",
    "disp(B)"
   ]
  },
  {
   "cell_type": "code",
   "execution_count": 24,
   "id": "1e4fe1cf-9d07-4fde-b8d7-09e0cb9e0e51",
   "metadata": {
    "tags": []
   },
   "outputs": [
    {
     "name": "stderr",
     "output_type": "stream",
     "text": [
      "Arrays have incompatible sizes for this operation."
     ]
    }
   ],
   "source": [
    "B + A\n",
    "B * A\n",
    "A * B\n",
    "[B, A]\n",
    "[B', A]\n",
    "[B, A']\n",
    "[B' A]\n",
    "[B'; A]\n",
    "[B; A']"
   ]
  },
  {
   "cell_type": "code",
   "execution_count": 209,
   "id": "aa3fb207-7795-4c45-99b0-b49ded882752",
   "metadata": {
    "tags": []
   },
   "outputs": [],
   "source": [
    "% ziadne"
   ]
  },
  {
   "cell_type": "markdown",
   "id": "8380af7a-e8eb-4353-bc8d-ecced3868978",
   "metadata": {
    "tags": []
   },
   "source": [
    "<div class=\"alert alert-block alert-success\">\n",
    "    \n",
    "**40.** Vytvořte matici **C** rozměrů $3 \\times 3,$ jejíž sloupce budou vektory **u = 1:3**.\n",
    "\n",
    "</div>"
   ]
  },
  {
   "cell_type": "code",
   "execution_count": 2,
   "id": "e06ac4ef-5769-44c8-a737-27c9ea4efb5c",
   "metadata": {
    "tags": []
   },
   "outputs": [
    {
     "data": {
      "text/html": [
       "<html><body><pre>u = 1x3 double\n",
       "     1     2     3\n",
       "</pre></body></html>"
      ],
      "text/plain": [
       "u = 1x3 double\n",
       "     1     2     3\n"
      ]
     },
     "execution_count": 2,
     "metadata": {},
     "output_type": "execute_result"
    },
    {
     "data": {
      "text/html": [
       "<html><body><pre>C = 3x3 double\n",
       "     1     1     1\n",
       "     2     2     2\n",
       "     3     3     3\n",
       "</pre></body></html>"
      ],
      "text/plain": [
       "C = 3x3 double\n",
       "     1     1     1\n",
       "     2     2     2\n",
       "     3     3     3\n"
      ]
     },
     "execution_count": 2,
     "metadata": {},
     "output_type": "execute_result"
    }
   ],
   "source": [
    "u = 1:3;\n",
    "C = [u',u',u'];\n",
    "u\n",
    "C"
   ]
  },
  {
   "cell_type": "markdown",
   "id": "882bc2e2-201a-4ace-bd8f-043758e576bb",
   "metadata": {},
   "source": [
    "<div class=\"alert alert-block alert-success\">\n",
    "    \n",
    "**41.** Porovnejte následující příkazy a zdůvodněte výsledky.\n",
    "- C * C\n",
    "- C .* C\n",
    "- C / C\n",
    "- C ./ C\n",
    "- Cˆ2\n",
    "- C.ˆ2\n",
    "\n",
    "\n",
    "</div>"
   ]
  },
  {
   "cell_type": "code",
   "execution_count": 4,
   "id": "d3637d6f-d55e-4ea0-b0a3-299c1e1d14fb",
   "metadata": {
    "tags": []
   },
   "outputs": [
    {
     "data": {
      "text/html": [
       "<html><body><pre>ans = 3x3 double\n",
       "     6     6     6\n",
       "    12    12    12\n",
       "    18    18    18\n",
       "</pre></body></html>"
      ],
      "text/plain": [
       "ans = 3x3 double\n",
       "     6     6     6\n",
       "    12    12    12\n",
       "    18    18    18\n"
      ]
     },
     "execution_count": 4,
     "metadata": {},
     "output_type": "execute_result"
    }
   ],
   "source": [
    "C * C"
   ]
  },
  {
   "cell_type": "code",
   "execution_count": 5,
   "id": "c749a4d0-b44f-4966-9fbb-d40eb498c8d7",
   "metadata": {
    "tags": []
   },
   "outputs": [
    {
     "data": {
      "text/html": [
       "<html><body><pre>ans = 3x3 double\n",
       "     1     1     1\n",
       "     4     4     4\n",
       "     9     9     9\n",
       "</pre></body></html>"
      ],
      "text/plain": [
       "ans = 3x3 double\n",
       "     1     1     1\n",
       "     4     4     4\n",
       "     9     9     9\n"
      ]
     },
     "execution_count": 5,
     "metadata": {},
     "output_type": "execute_result"
    }
   ],
   "source": [
    "C .* C"
   ]
  },
  {
   "cell_type": "code",
   "execution_count": 6,
   "id": "3e2ed96d-98e7-4409-a708-1bfff8f786e3",
   "metadata": {
    "tags": []
   },
   "outputs": [
    {
     "name": "stderr",
     "output_type": "stream",
     "text": [
      "Warning: Matrix is singular to working precision."
     ]
    },
    {
     "data": {
      "text/html": [
       "<html><body><pre>ans = 3x3 double\n",
       "   NaN   NaN   NaN\n",
       "   NaN   NaN   NaN\n",
       "   NaN   NaN   NaN\n",
       "</pre></body></html>"
      ],
      "text/plain": [
       "ans = 3x3 double\n",
       "   NaN   NaN   NaN\n",
       "   NaN   NaN   NaN\n",
       "   NaN   NaN   NaN\n"
      ]
     },
     "execution_count": 6,
     "metadata": {},
     "output_type": "execute_result"
    }
   ],
   "source": [
    "C / C"
   ]
  },
  {
   "cell_type": "code",
   "execution_count": 7,
   "id": "04232fad-94a5-4d9c-8411-7c99cb1292b8",
   "metadata": {
    "tags": []
   },
   "outputs": [
    {
     "data": {
      "text/html": [
       "<html><body><pre>ans = 3x3 double\n",
       "     1     1     1\n",
       "     1     1     1\n",
       "     1     1     1\n",
       "</pre></body></html>"
      ],
      "text/plain": [
       "ans = 3x3 double\n",
       "     1     1     1\n",
       "     1     1     1\n",
       "     1     1     1\n"
      ]
     },
     "execution_count": 7,
     "metadata": {},
     "output_type": "execute_result"
    }
   ],
   "source": [
    "C ./ C"
   ]
  },
  {
   "cell_type": "code",
   "execution_count": 9,
   "id": "cdb791ee-869a-4e8a-a6ce-e9071c0c3397",
   "metadata": {
    "tags": []
   },
   "outputs": [
    {
     "data": {
      "text/html": [
       "<html><body><pre>ans = 3x3 double\n",
       "     6     6     6\n",
       "    12    12    12\n",
       "    18    18    18\n",
       "</pre></body></html>"
      ],
      "text/plain": [
       "ans = 3x3 double\n",
       "     6     6     6\n",
       "    12    12    12\n",
       "    18    18    18\n"
      ]
     },
     "execution_count": 9,
     "metadata": {},
     "output_type": "execute_result"
    }
   ],
   "source": [
    "C^2"
   ]
  },
  {
   "cell_type": "code",
   "execution_count": 10,
   "id": "1f5b67fc-cf35-49da-ade5-b2524029c860",
   "metadata": {
    "tags": []
   },
   "outputs": [
    {
     "data": {
      "text/html": [
       "<html><body><pre>ans = 3x3 double\n",
       "     1     1     1\n",
       "     4     4     4\n",
       "     9     9     9\n",
       "</pre></body></html>"
      ],
      "text/plain": [
       "ans = 3x3 double\n",
       "     1     1     1\n",
       "     4     4     4\n",
       "     9     9     9\n"
      ]
     },
     "execution_count": 10,
     "metadata": {},
     "output_type": "execute_result"
    }
   ],
   "source": [
    "C.^2"
   ]
  },
  {
   "cell_type": "markdown",
   "id": "373c88f6-afae-4f1e-b496-94b4384707c4",
   "metadata": {
    "tags": []
   },
   "source": [
    "<div class=\"alert alert-block alert-success\">\n",
    "    \n",
    "**42.** Do proměnné **u** uložte posloupnost -5, -3, -1, ... jako sloupcový vektor délky 12. Použite funkcii **linspace**.\n",
    "\n",
    "</div>"
   ]
  },
  {
   "cell_type": "code",
   "execution_count": 11,
   "id": "0f0035be-7147-446d-b353-e245f025200d",
   "metadata": {
    "collapsed": true,
    "jupyter": {
     "outputs_hidden": true
    },
    "tags": []
   },
   "outputs": [
    {
     "name": "stdout",
     "output_type": "stream",
     "text": [
      " LINSPACE Linearly spaced vector.\n",
      "    LINSPACE(X1, X2) generates a row vector of 100 linearly\n",
      "    equally spaced points between X1 and X2.\n",
      " \n",
      "    LINSPACE(X1, X2, N) generates N points between X1 and X2.\n",
      "    For N = 1, LINSPACE returns X2.\n",
      " \n",
      "    Class support for inputs X1,X2:\n",
      "       float: double, single\n",
      " \n",
      "    See also LOGSPACE, COLON.\n",
      "\n",
      "    Documentation for linspace\n",
      "       doc linspace\n",
      "\n",
      "    Other uses of linspace\n",
      "\n",
      "       cgvalue/linspace              distributed/linspace\n",
      "       codistributed/linspace        duration/linspace\n",
      "       codistributor1d/linspace      gpuArray/linspace\n",
      "       codistributor2dbc/linspace    symfun/linspace\n",
      "       datetime/linspace\n",
      "\n"
     ]
    }
   ],
   "source": [
    "help linspace"
   ]
  },
  {
   "cell_type": "code",
   "execution_count": 15,
   "id": "fa392c74-b4ce-44b0-9799-8abbe653ff49",
   "metadata": {
    "tags": []
   },
   "outputs": [
    {
     "data": {
      "text/html": [
       "<html><body><pre>u = 1x12 double\n",
       "    -5    -3    -1     1     3     5     7     9    11    13    15    17\n",
       "</pre></body></html>"
      ],
      "text/plain": [
       "u = 1x12 double\n",
       "    -5    -3    -1     1     3     5     7     9    11    13    15    17\n"
      ]
     },
     "execution_count": 15,
     "metadata": {},
     "output_type": "execute_result"
    }
   ],
   "source": [
    "le = 12;\n",
    "u = linspace(-5, -5 + (le -1)*2, 12)"
   ]
  },
  {
   "cell_type": "markdown",
   "id": "d6400b0c-6373-4f48-a738-a9d2ec381ac1",
   "metadata": {
    "tags": []
   },
   "source": [
    "<div class=\"alert alert-block alert-success\">\n",
    "    \n",
    "**43.** Seřaďte vektor sestupně pomocí funkce **sort**.\n",
    "\n",
    "</div>"
   ]
  },
  {
   "cell_type": "code",
   "execution_count": 20,
   "id": "76ad11c1-56a7-4649-958a-e06ff0d22f4b",
   "metadata": {
    "tags": []
   },
   "outputs": [
    {
     "data": {
      "text/html": [
       "<html><body><pre>ans = 1x12 double\n",
       "    17    15    13    11     9     7     5     3     1    -1    -3    -5\n",
       "</pre></body></html>"
      ],
      "text/plain": [
       "ans = 1x12 double\n",
       "    17    15    13    11     9     7     5     3     1    -1    -3    -5\n"
      ]
     },
     "execution_count": 20,
     "metadata": {},
     "output_type": "execute_result"
    }
   ],
   "source": [
    "sort(u, 'descend')"
   ]
  }
 ],
 "metadata": {
  "kernelspec": {
   "display_name": "MATLAB Kernel",
   "language": "matlab",
   "name": "jupyter_matlab_kernel"
  },
  "language_info": {
   "file_extension": ".m",
   "mimetype": "text/x-matlab",
   "name": "matlab"
  }
 },
 "nbformat": 4,
 "nbformat_minor": 5
}
