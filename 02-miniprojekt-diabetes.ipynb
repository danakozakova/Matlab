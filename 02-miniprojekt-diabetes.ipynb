{
 "cells": [
  {
   "cell_type": "markdown",
   "id": "222a855a-06db-43f0-b52e-21d1adcf82f3",
   "metadata": {},
   "source": [
    "# Bonusový příklad"
   ]
  },
  {
   "cell_type": "markdown",
   "id": "c706dd67-e6f9-4cdc-956f-87a5324c9a0d",
   "metadata": {},
   "source": [
    "<div class=\"alert alert-block alert-success\">\n",
    "\n",
    "Dále zkoumejte datový soubor **diabetes.mat**. Pokuste se přijít na to, kteří pacienti jsou častěji diagnostikování s cukrovkou. Okomentujte vztah \n",
    "\n",
    "- **věku a cukrovky:** Je cukrovka častější u starších pacientů? Jak pacienty rozdělit do věkových kategorií? Je na místě brát v potaz věkové rozložení datového souboru?\n",
    "- **BMI a cukrovky:** Je cukrovka častější u pacientů s vyšším BMI? Co velmi nízké BMI? Jsou v datech nějaké odlehlé hodnoty?\n",
    "- **cukrovky a hladiny glukózy v krvi**\n",
    "- **cukrovky a hladiny inzulínu v krvi**\n",
    "\n",
    "Dále prozkoumejte proměnné samotné. Má datový soubor nějaké slabé stránky? Například:\n",
    "\n",
    "- Jsou v datovém souboru dostatečně zastoupeni starší lidé a děti?\n",
    "- Mohou být v datovém souboru nějaké chyby?\n",
    "- Jsou v datech přítomny extrémní hodnoty, které by mohly vychýlit průměr?\n",
    "- Jaké další proměnné by datový soubor měl obsahovat? Chybí některé údaje?\n",
    "\n",
    "Příklad chápejte jako svou vlastní analýzu biomedicínských dat a zodpovědně se snažte odhalit i slabné stránky datového souboru, které by mohly vést k zavádějícím závěrům. Samozřejmě můžete (ale nemusíte) používat **celý dataset** ze stránky kaggle, ne jen mnou vybrané proměnné. Pokud chcete pro řešení použít doplňující informace z internetu, nové funkce, pokusit se vykreslit graf, jistě můžete.\n",
    "\n",
    "Příklad vyřeště v novém Jupyter notebooku, kde kód vhodně okomentujte (komentář se začíná znakem **%**). \n",
    "\n",
    "Za bonusový příklad s obzvlášť pěkným řešením můžete získat až **3 body**. Hodnotí se způsob, kterým ukážete své výsledky, jak uvažujete nad problémem a celkový vzhled, upravenost a čitelnost Jupyter notebooku a kódu v něm.\n",
    "\n",
    "**PS:** Vaše interpretace nemusí být nutně perfektní a správná, jde spíš o vyzkoušení toho, co v **MATLAB**u dokážete naprogramovat.\n",
    "    \n",
    "</div>"
   ]
  },
  {
   "cell_type": "markdown",
   "id": "2284329d-3c16-492b-be0c-dfa57fee969b",
   "metadata": {},
   "source": [
    "<div class=\"alert alert-block alert-success\"> \n",
    "\n",
    "Loading of data    \n",
    "</div>"
   ]
  },
  {
   "cell_type": "code",
   "execution_count": 1,
   "id": "056dbbbc-5a1a-4d49-adef-9079ae071d25",
   "metadata": {
    "tags": []
   },
   "outputs": [],
   "source": [
    "cd C:\\Users\\educa\\Documents\\STUDY\\MUNI\\PREDMETY\\'Po 18.00 Matematicke programovani'\\cvicenia\\'2. cvičenie'\\"
   ]
  },
  {
   "cell_type": "code",
   "execution_count": 2,
   "id": "a3fabd07-4b41-4307-aad8-46b25b5d81b9",
   "metadata": {
    "tags": []
   },
   "outputs": [
    {
     "name": "stdout",
     "output_type": "stream",
     "text": [
      "  Name           Size            Bytes  Class     Attributes\n",
      "\n",
      "  age          768x1              6144  double              \n",
      "  bmi          768x1              6144  double              \n",
      "  glucose      768x1              6144  double              \n",
      "  insulin      768x1              6144  double              \n",
      "  outcome      768x1              6144  double              \n",
      "\n"
     ]
    }
   ],
   "source": [
    "clear all % clear all variables\n",
    "load(\"diabetes.mat\") % load data\n",
    "whos % show variables"
   ]
  },
  {
   "cell_type": "markdown",
   "id": "138ead51-a1a4-4f34-bf30-7316ff7d698e",
   "metadata": {
    "tags": []
   },
   "source": [
    "<div class=\"alert alert-block alert-success\">\n",
    "\n",
    "Relation of **age and diabetes**\n",
    "\n",
    "</div>\n"
   ]
  },
  {
   "cell_type": "markdown",
   "id": "cac30f8c-8592-4930-bf5e-db7ccb708625",
   "metadata": {},
   "source": [
    "We set intervals for age and count absolute and relative numbers of patients with diabetes in each interval"
   ]
  },
  {
   "cell_type": "code",
   "execution_count": 3,
   "id": "1ef6ac46-b9f2-4e1f-bf08-9a5416b8ab48",
   "metadata": {
    "tags": []
   },
   "outputs": [],
   "source": [
    "intervals = [min(age)-1 30 40 50 60 70 max(age)+1]; %manually set bins for intervals of age"
   ]
  },
  {
   "cell_type": "code",
   "execution_count": 4,
   "id": "cff41a21-01c1-4b81-9c08-7fb5b6508cad",
   "metadata": {
    "tags": []
   },
   "outputs": [
    {
     "data": {
      "text/html": [
       "<html><body><pre>intervals = 1x7 double\n",
       "    20    30    40    50    60    70    82\n",
       "</pre></body></html>"
      ],
      "text/plain": [
       "intervals = 1x7 double\n",
       "    20    30    40    50    60    70    82\n"
      ]
     },
     "execution_count": 4,
     "metadata": {},
     "output_type": "execute_result"
    }
   ],
   "source": [
    "intervals\n",
    "[~, ~, age_int] = histcounts(age, intervals); \n",
    "% creates a vector 768x1 with the interval order according the age. So, there will be 6 possible values in this column named \"age_int\""
   ]
  },
  {
   "cell_type": "code",
   "execution_count": 5,
   "id": "ebfbee46-3323-4a3b-b6de-e556a8e5c65e",
   "metadata": {
    "tags": []
   },
   "outputs": [],
   "source": [
    "counts_DiaPerAge = accumarray(age_int, outcome); % calculates the number of 1 in outcome for eacg interval coded as 1 to 6 in age_int\n",
    "% counts_PerAge = accumarray(age_int, age); the same wouldn't work for age due to multiplication with age.\n",
    "% counts_PerAge = accumarray(age_int, ones(size(age)); the multiplication with ones would work\n",
    "counts_PerAge = histcounts(age, intervals); % nicer solution. No multiplication, only sum of values \n",
    "\n",
    "countsRel_DiaPerAge = 100* counts_DiaPerAge' ./ counts_PerAge; %relative value gained with division, but not matrix division! With sign '.'"
   ]
  },
  {
   "cell_type": "code",
   "execution_count": 6,
   "id": "2189b610-b9b3-4b1c-83f6-1768e32fbf1e",
   "metadata": {},
   "outputs": [
    {
     "name": "stdout",
     "output_type": "stream",
     "text": [
      "    30    40    50    60    70    82\n",
      "\n",
      "    84    76    65    34     8     1\n",
      "\n",
      "   396   165   118    57    29     3\n",
      "\n",
      "   21.2121   46.0606   55.0847   59.6491   27.5862   33.3333\n",
      "\n"
     ]
    }
   ],
   "source": [
    "% displaying of UPPER value of INTERVAL, ABSOLUTE numbers, TOTAL numbers and RELATIVE numbers\n",
    "disp(intervals(2:end))\n",
    "disp(counts_DiaPerAge')\n",
    "disp(counts_PerAge)\n",
    "disp(countsRel_DiaPerAge)"
   ]
  },
  {
   "cell_type": "code",
   "execution_count": 71,
   "id": "9cc0267c-8ec9-47d6-8a28-3a36196f51ee",
   "metadata": {
    "collapsed": true,
    "jupyter": {
     "outputs_hidden": true,
     "source_hidden": true
    },
    "tags": []
   },
   "outputs": [
    {
     "data": {
      "text/html": [
       "<html><body><pre>ans = 84</pre></body></html>"
      ],
      "text/plain": [
       "ans = 84"
      ]
     },
     "execution_count": 71,
     "metadata": {},
     "output_type": "execute_result"
    },
    {
     "data": {
      "text/html": [
       "<html><body><pre>ans = 76</pre></body></html>"
      ],
      "text/plain": [
       "ans = 76"
      ]
     },
     "execution_count": 71,
     "metadata": {},
     "output_type": "execute_result"
    },
    {
     "data": {
      "text/html": [
       "<html><body><pre>ans = 65</pre></body></html>"
      ],
      "text/plain": [
       "ans = 65"
      ]
     },
     "execution_count": 71,
     "metadata": {},
     "output_type": "execute_result"
    },
    {
     "data": {
      "text/html": [
       "<html><body><pre>ans = 34</pre></body></html>"
      ],
      "text/plain": [
       "ans = 34"
      ]
     },
     "execution_count": 71,
     "metadata": {},
     "output_type": "execute_result"
    },
    {
     "data": {
      "text/html": [
       "<html><body><pre>ans = 8</pre></body></html>"
      ],
      "text/plain": [
       "ans = 8"
      ]
     },
     "execution_count": 71,
     "metadata": {},
     "output_type": "execute_result"
    },
    {
     "data": {
      "text/html": [
       "<html><body><pre>ans = 1</pre></body></html>"
      ],
      "text/plain": [
       "ans = 1"
      ]
     },
     "execution_count": 71,
     "metadata": {},
     "output_type": "execute_result"
    }
   ],
   "source": [
    "% Only check of absolute numbers\n",
    "sum(outcome(age >= 20 & age <30))\n",
    "sum(outcome(age >= 30 & age <40))\n",
    "sum(outcome(age >= 40 & age <50))\n",
    "sum(outcome(age >= 50 & age <60))\n",
    "sum(outcome(age >= 60 & age <70))\n",
    "sum(outcome(age >= 70 & age <85))"
   ]
  },
  {
   "cell_type": "code",
   "execution_count": 15,
   "id": "e5e40cec-9803-487d-9dbb-cfd4100f8bd8",
   "metadata": {
    "tags": []
   },
   "outputs": [
    {
     "data": {
      "image/png": "[encoded data removed]"
     },
     "execution_count": 15,
     "metadata": {},
     "output_type": "execute_result"
    }
   ],
   "source": [
    "subplot(1,2,1)\n",
    "histogram(age(outcome == 1), [30 40 50 60 70 85], Normalization = 'percentage')\n",
    "title('Age - diabetics')\n",
    "\n",
    "subplot(1,2,2)\n",
    "histogram(age(outcome == 0), [30 40 50 60 70 85], Normalization = 'percentage')\n",
    "title('Age - nondiabetics')\n",
    "ylim([0 30])\n"
   ]
  },
  {
   "cell_type": "markdown",
   "id": "ece464ec-4bb7-4bab-8cd0-8992ae209b24",
   "metadata": {},
   "source": [
    "<div class=\"alert alert-block alert-info\"> \n",
    "\n",
    "I have found out that:\n",
    "- the youngiest person is 21 years old\n",
    "- the oldiest is 81 years old\n",
    "  \n",
    "- diabetes is more spread in the middle intervals, e.g. from 40 to 70 ears aproximately every second person has diabetes\n",
    "- younger people have diabetes rarely\n",
    "- it is interesting that diabetes is rare in higher age as well. I suppose it is due the fact that people with diabetes die on complications connected with diabetes.\n",
    "    \n",
    "</div>"
   ]
  },
  {
   "cell_type": "markdown",
   "id": "06c13a90-6011-4a5e-bcdc-1eb7ec450248",
   "metadata": {
    "tags": []
   },
   "source": [
    "<div class=\"alert alert-block alert-success\">\n",
    "\n",
    "Relation of **BMI and diabetes**\n",
    "\n",
    "</div>\n"
   ]
  },
  {
   "cell_type": "code",
   "execution_count": 16,
   "id": "d242f6c8-4535-4ef0-848b-6037d54f680d",
   "metadata": {
    "tags": []
   },
   "outputs": [
    {
     "name": "stdout",
     "output_type": "stream",
     "text": [
      "  Name           Size            Bytes  Class     Attributes\n",
      "\n",
      "  age          768x1              6144  double              \n",
      "  bmi          768x1              6144  double              \n",
      "  glucose      768x1              6144  double              \n",
      "  insulin      768x1              6144  double              \n",
      "  outcome      768x1              6144  double              \n",
      "\n"
     ]
    }
   ],
   "source": [
    "clear all \n",
    "load(\"diabetes.mat\") \n",
    "whos "
   ]
  },
  {
   "cell_type": "code",
   "execution_count": 17,
   "id": "f8488b73-c91a-4f80-8a0a-1f89ea47fa6c",
   "metadata": {
    "tags": []
   },
   "outputs": [
    {
     "data": {
      "text/html": [
       "<html><body><pre>ans = 0</pre></body></html>"
      ],
      "text/plain": [
       "ans = 0"
      ]
     },
     "execution_count": 17,
     "metadata": {},
     "output_type": "execute_result"
    },
    {
     "data": {
      "text/html": [
       "<html><body><pre>ans = 67.1000</pre></body></html>"
      ],
      "text/plain": [
       "ans = 67.1000"
      ]
     },
     "execution_count": 17,
     "metadata": {},
     "output_type": "execute_result"
    }
   ],
   "source": [
    "min(bmi)\n",
    "max(bmi)"
   ]
  },
  {
   "cell_type": "code",
   "execution_count": 18,
   "id": "6318f159-0d86-4650-9deb-299a14562e72",
   "metadata": {
    "tags": []
   },
   "outputs": [
    {
     "name": "stdout",
     "output_type": "stream",
     "text": [
      "There is 11 records with BMI = 0"
     ]
    }
   ],
   "source": [
    "fprintf('There is %d records with BMI = 0', size(find(bmi == 0), 1))\n"
   ]
  },
  {
   "cell_type": "code",
   "execution_count": 19,
   "id": "d2a2d361-de75-418b-b24a-20ca67a64aad",
   "metadata": {
    "tags": []
   },
   "outputs": [
    {
     "data": {
      "text/html": [
       "<html><body><pre>ans = 11x1 double\n",
       "    10\n",
       "    50\n",
       "    61\n",
       "    82\n",
       "   146\n",
       "   372\n",
       "   427\n",
       "   495\n",
       "   523\n",
       "   685\n",
       "...</pre></body></html>"
      ],
      "text/plain": [
       "ans = 11x1 double\n",
       "    10\n",
       "    50\n",
       "    61\n",
       "    82\n",
       "   146\n",
       "   372\n",
       "   427\n",
       "   495\n",
       "   523\n",
       "   685\n",
       "..."
      ]
     },
     "execution_count": 19,
     "metadata": {},
     "output_type": "execute_result"
    }
   ],
   "source": [
    "find(bmi == 0) %here I needn't to use [r,s], because there is only one column"
   ]
  },
  {
   "cell_type": "code",
   "execution_count": 20,
   "id": "5de05ce4-8a57-42c1-bfe6-9c242543d0c3",
   "metadata": {
    "tags": []
   },
   "outputs": [
    {
     "data": {
      "text/html": [
       "<html><body><pre>ans = 1x8 double\n",
       "   53.2000   55.0000   67.1000   52.3000   52.3000   52.9000   59.4000   57.3000\n",
       "</pre></body></html>"
      ],
      "text/plain": [
       "ans = 1x8 double\n",
       "   53.2000   55.0000   67.1000   52.3000   52.3000   52.9000   59.4000   57.3000\n"
      ]
     },
     "execution_count": 20,
     "metadata": {},
     "output_type": "execute_result"
    }
   ],
   "source": [
    "bmi(find(bmi > 50))' % higher values - obese people"
   ]
  },
  {
   "cell_type": "markdown",
   "id": "ed2f8def-1b24-450a-8e3a-7ce3463b10cf",
   "metadata": {},
   "source": [
    "We need to get rid of unreal values (BMI 0 doesn't exist)"
   ]
  },
  {
   "cell_type": "code",
   "execution_count": 21,
   "id": "27689517-1577-485a-a83f-215b63854bf9",
   "metadata": {
    "tags": []
   },
   "outputs": [],
   "source": [
    "outcome_cleared = outcome(bmi ~= 0);\n",
    "bmi_cleared = bmi(bmi ~= 0);"
   ]
  },
  {
   "cell_type": "code",
   "execution_count": 80,
   "id": "04884c36-b96d-4706-a091-47226e8e5a75",
   "metadata": {
    "jupyter": {
     "source_hidden": true
    },
    "tags": []
   },
   "outputs": [
    {
     "data": {
      "text/html": [
       "<html><body><pre>ans = 18.2000</pre></body></html>"
      ],
      "text/plain": [
       "ans = 18.2000"
      ]
     },
     "execution_count": 80,
     "metadata": {},
     "output_type": "execute_result"
    },
    {
     "data": {
      "text/html": [
       "<html><body><pre>ans = 67.1000</pre></body></html>"
      ],
      "text/plain": [
       "ans = 67.1000"
      ]
     },
     "execution_count": 80,
     "metadata": {},
     "output_type": "execute_result"
    }
   ],
   "source": [
    "min(bmi_cleared)\n",
    "max(bmi_cleared)"
   ]
  },
  {
   "cell_type": "code",
   "execution_count": 22,
   "id": "2d610333-20b7-497e-8c7a-2a17f0ce0b56",
   "metadata": {
    "tags": []
   },
   "outputs": [
    {
     "name": "stdout",
     "output_type": "stream",
     "text": [
      "Diabetics - average: 35.41, min: 22.90, max: 67.10 \n",
      "Others    - average: 30.86, min: 18.20, max: 57.30"
     ]
    }
   ],
   "source": [
    "bmi_dia = bmi_cleared(outcome_cleared == 1);\n",
    "bmi_notDia = bmi_cleared(outcome_cleared == 0);\n",
    "\n",
    "bmi_dia_avg = mean(bmi_dia);\n",
    "bmi_dia_min = min(bmi_dia);\n",
    "bmi_dia_max = max(bmi_dia);\n",
    "\n",
    "bmi_notDia_avg = mean(bmi_notDia);\n",
    "bmi_notDia_min = min(bmi_notDia);\n",
    "bmi_notDia_max = max(bmi_notDia);\n",
    "\n",
    "fprintf('Diabetics - average: %.2f, min: %.2f, max: %.2f \\n', bmi_dia_avg, bmi_dia_min, bmi_dia_max)\n",
    "fprintf('Others    - average: %.2f, min: %.2f, max: %.2f', bmi_notDia_avg, bmi_notDia_min, bmi_notDia_max)\n"
   ]
  },
  {
   "cell_type": "code",
   "execution_count": 24,
   "id": "afba31fe-9c43-4b83-86f6-0f30324f238a",
   "metadata": {},
   "outputs": [
    {
     "data": {
      "image/png": "[encoded data removed]"
     },
     "execution_count": 24,
     "metadata": {},
     "output_type": "execute_result"
    }
   ],
   "source": [
    "subplot(1,2,1)\n",
    "boxplot(bmi_dia)\n",
    "title('BMI - diabetics')\n",
    "ylim([15 70])\n",
    "\n",
    "subplot(1,2,2)\n",
    "boxplot(bmi_notDia)\n",
    "ylim([15 70])\n",
    "title('BMI - nondiabetics')"
   ]
  },
  {
   "cell_type": "markdown",
   "id": "6aebfb1e-b8c2-4309-82c2-225a083503a9",
   "metadata": {},
   "source": [
    "<div class=\"alert alert-block alert-info\"> \n",
    "\n",
    "We have found out that:\n",
    "- diabetics have higher BMI in general\n",
    "- extreme BMI over 50 is more often among diabetics\n",
    "\n",
    "Notice: there were some unreal values BMI = 0, these were excluded before analysing the statistics\n",
    "</div>"
   ]
  },
  {
   "cell_type": "markdown",
   "id": "3833de4c-d97a-4dba-88ae-a43459f247bb",
   "metadata": {
    "tags": []
   },
   "source": [
    "<div class=\"alert alert-block alert-success\">\n",
    "\n",
    "Relation of **Diabetes and glucose**\n",
    "\n",
    "</div>\n"
   ]
  },
  {
   "cell_type": "code",
   "execution_count": 16,
   "id": "b1038876-a699-41d6-bb9c-b23134714907",
   "metadata": {
    "tags": []
   },
   "outputs": [
    {
     "name": "stdout",
     "output_type": "stream",
     "text": [
      "  Name           Size            Bytes  Class     Attributes\n",
      "\n",
      "  age          768x1              6144  double              \n",
      "  bmi          768x1              6144  double              \n",
      "  glucose      768x1              6144  double              \n",
      "  insulin      768x1              6144  double              \n",
      "  outcome      768x1              6144  double              \n",
      "\n"
     ]
    }
   ],
   "source": [
    "clear all \n",
    "load(\"diabetes.mat\") \n",
    "whos "
   ]
  },
  {
   "cell_type": "code",
   "execution_count": 17,
   "id": "38eb05a8-78aa-4f50-acca-b7ab669802f3",
   "metadata": {
    "tags": []
   },
   "outputs": [
    {
     "data": {
      "text/html": [
       "<html><body><pre>ans = 0</pre></body></html>"
      ],
      "text/plain": [
       "ans = 0"
      ]
     },
     "execution_count": 17,
     "metadata": {},
     "output_type": "execute_result"
    },
    {
     "data": {
      "text/html": [
       "<html><body><pre>ans = 199</pre></body></html>"
      ],
      "text/plain": [
       "ans = 199"
      ]
     },
     "execution_count": 17,
     "metadata": {},
     "output_type": "execute_result"
    }
   ],
   "source": [
    "min(glucose)\n",
    "max(glucose)"
   ]
  },
  {
   "cell_type": "code",
   "execution_count": 18,
   "id": "93c7a1bf-1dd4-46f5-a23b-7f067c6f58a0",
   "metadata": {
    "tags": []
   },
   "outputs": [
    {
     "name": "stdout",
     "output_type": "stream",
     "text": [
      "There is 5 records with glucose = 0"
     ]
    }
   ],
   "source": [
    "fprintf('There is %d records with glucose = 0', size(find(glucose == 0), 1))\n"
   ]
  },
  {
   "cell_type": "code",
   "execution_count": 19,
   "id": "f7782e2e-6f18-45f9-abb5-d84899958e57",
   "metadata": {
    "tags": []
   },
   "outputs": [
    {
     "data": {
      "text/html": [
       "<html><body><pre>ans = 5x1 double\n",
       "    76\n",
       "   183\n",
       "   343\n",
       "   350\n",
       "   503\n",
       "</pre></body></html>"
      ],
      "text/plain": [
       "ans = 5x1 double\n",
       "    76\n",
       "   183\n",
       "   343\n",
       "   350\n",
       "   503\n"
      ]
     },
     "execution_count": 19,
     "metadata": {},
     "output_type": "execute_result"
    }
   ],
   "source": [
    "find(glucose == 0) % here I needn't to use [r,s], because there is only one column"
   ]
  },
  {
   "cell_type": "markdown",
   "id": "05f793d2-4631-40bb-9983-d0624050e1a4",
   "metadata": {},
   "source": [
    "We need to get rid of unreal values (glucose cannot be 0 --> death)"
   ]
  },
  {
   "cell_type": "code",
   "execution_count": 20,
   "id": "a215f93b-6504-409a-a5f1-f2e4606c482e",
   "metadata": {
    "tags": []
   },
   "outputs": [],
   "source": [
    "outcome_cleared = outcome(glucose ~= 0);\n",
    "glucose_cleared = glucose(glucose ~= 0);"
   ]
  },
  {
   "cell_type": "code",
   "execution_count": 21,
   "id": "1d4c38d0-4906-45cc-ab49-dfe7c5af574d",
   "metadata": {
    "tags": []
   },
   "outputs": [
    {
     "name": "stdout",
     "output_type": "stream",
     "text": [
      "Diabetics - average: 142.32, min: 78.00, max: 199.00 \n",
      "Others    - average: 110.64, min: 44.00, max: 197.00"
     ]
    }
   ],
   "source": [
    "glu_dia = glucose_cleared(outcome_cleared == 1);\n",
    "glu_notDia = glucose_cleared(outcome_cleared == 0);\n",
    "\n",
    "glu_dia_avg = mean(glu_dia);\n",
    "glu_dia_min = min(glu_dia);\n",
    "glu_dia_max = max(glu_dia);\n",
    "\n",
    "glu_notDia_avg = mean(glu_notDia);\n",
    "glu_notDia_min = min(glu_notDia);\n",
    "glu_notDia_max = max(glu_notDia);\n",
    "\n",
    "fprintf('Diabetics - average: %.2f, min: %.2f, max: %.2f \\n', glu_dia_avg, glu_dia_min, glu_dia_max)\n",
    "fprintf('Others    - average: %.2f, min: %.2f, max: %.2f', glu_notDia_avg, glu_notDia_min, glu_notDia_max)\n"
   ]
  },
  {
   "cell_type": "code",
   "execution_count": 22,
   "id": "f2866b6e-72a9-4b2c-a40c-a70e63bb821a",
   "metadata": {
    "tags": []
   },
   "outputs": [
    {
     "data": {
      "image/png": "[encoded data removed]"
     },
     "execution_count": 22,
     "metadata": {},
     "output_type": "execute_result"
    }
   ],
   "source": [
    "subplot(1,2,1)\n",
    "boxplot(glu_dia)\n",
    "title('Glucose - diabetics')\n",
    "\n",
    "subplot(1,2,2)\n",
    "boxplot(glu_notDia)\n",
    "title('Glucose - nondiabetics')"
   ]
  },
  {
   "cell_type": "markdown",
   "id": "0173f939-cc09-4e39-ab82-c4b86e74a163",
   "metadata": {},
   "source": [
    "<div class=\"alert alert-block alert-info\"> \n",
    "\n",
    "We have found out that:\n",
    "- diabetics have higher glucose in general\n",
    "- but higher values around 200 were found among nondiabetics as well\n",
    "\n",
    "Notice: there were some unreal values glucose = 0, these were excluded before analysing the statistics\n",
    "</div>"
   ]
  },
  {
   "cell_type": "markdown",
   "id": "f92b03e2-d1ca-44ff-96f9-d0825febaa83",
   "metadata": {
    "tags": []
   },
   "source": [
    "<div class=\"alert alert-block alert-success\">\n",
    "\n",
    "Relation of **Diabetes and insulin**\n",
    "\n",
    "</div>\n"
   ]
  },
  {
   "cell_type": "code",
   "execution_count": 23,
   "id": "0a798e96-a4c9-4e8e-972a-12edd544b5fd",
   "metadata": {
    "tags": []
   },
   "outputs": [
    {
     "name": "stdout",
     "output_type": "stream",
     "text": [
      "  Name           Size            Bytes  Class     Attributes\n",
      "\n",
      "  age          768x1              6144  double              \n",
      "  bmi          768x1              6144  double              \n",
      "  glucose      768x1              6144  double              \n",
      "  insulin      768x1              6144  double              \n",
      "  outcome      768x1              6144  double              \n",
      "\n"
     ]
    }
   ],
   "source": [
    "clear all \n",
    "load(\"diabetes.mat\") \n",
    "whos "
   ]
  },
  {
   "cell_type": "code",
   "execution_count": 24,
   "id": "de3d2c56-9e1f-4620-b082-1a0bc44bdd03",
   "metadata": {
    "tags": []
   },
   "outputs": [
    {
     "data": {
      "text/html": [
       "<html><body><pre>ans = 0</pre></body></html>"
      ],
      "text/plain": [
       "ans = 0"
      ]
     },
     "execution_count": 24,
     "metadata": {},
     "output_type": "execute_result"
    },
    {
     "data": {
      "text/html": [
       "<html><body><pre>ans = 846</pre></body></html>"
      ],
      "text/plain": [
       "ans = 846"
      ]
     },
     "execution_count": 24,
     "metadata": {},
     "output_type": "execute_result"
    }
   ],
   "source": [
    "min(insulin)\n",
    "max(insulin)"
   ]
  },
  {
   "cell_type": "code",
   "execution_count": 25,
   "id": "d55e4bf0-a564-4b81-847b-5f5b45f22891",
   "metadata": {
    "tags": []
   },
   "outputs": [
    {
     "name": "stdout",
     "output_type": "stream",
     "text": [
      "There is 374 records with insulin = 0"
     ]
    }
   ],
   "source": [
    "fprintf('There is %d records with insulin = 0', size(find(insulin == 0), 1))\n"
   ]
  },
  {
   "cell_type": "markdown",
   "id": "5a7aece6-1c30-4f37-a718-394809ece131",
   "metadata": {
    "tags": []
   },
   "source": [
    "<div class=\"alert alert-block alert-danger\"> \n",
    "\n",
    "It's quite strange that 374 people has level of insulin = 0. This is not real. Healthy person has normal value of insulin abou 5 - 15 mIU/L (30 - 90 pmol/L). \n",
    "    Diabetic have \"artificial\" insulin in blood. (can has own insulin as well)\n",
    "    \n",
    "</div>"
   ]
  },
  {
   "cell_type": "markdown",
   "id": "14681bc3-f1a2-420d-a44c-258f6c9b16d5",
   "metadata": {},
   "source": [
    "So, I'd like to explore, if these data are for diabetics or nondiabetics"
   ]
  },
  {
   "cell_type": "code",
   "execution_count": 26,
   "id": "65703811-ea14-4aeb-ac4e-61b8f6e47214",
   "metadata": {
    "tags": []
   },
   "outputs": [
    {
     "name": "stdout",
     "output_type": "stream",
     "text": [
      "There 51.49 percent of diabetics 47.20 percent of non-diabetics that have 0 of insulin in their blood."
     ]
    }
   ],
   "source": [
    "outcome_ins0 = outcome(insulin == 0);\n",
    "\n",
    "ins0_dia = size(outcome_ins0(outcome_ins0 == 1), 1);\n",
    "ins0_notDia = size(outcome_ins0(outcome_ins0 == 0), 1);\n",
    "\n",
    "ratio_dia = 100 * ins0_dia / size(outcome(outcome == 1), 1);\n",
    "ratio_notDia = 100 * ins0_notDia / size(outcome(outcome == 0), 1);\n",
    "\n",
    "fprintf('There %.2f percent of diabetics %.2f percent of non-diabetics that have 0 of insulin in their blood.', ratio_dia, ratio_notDia)"
   ]
  },
  {
   "cell_type": "markdown",
   "id": "756bcfbf-8a7f-481b-99a2-b5c6dbb1ad28",
   "metadata": {
    "tags": []
   },
   "source": [
    "<div class=\"alert alert-block alert-danger\"> \n",
    "\n",
    "The results are quite suprising. 138 diabetics and 236 nondiabetics have \"supposedly\" 0 insuline in their blood. So, further results are not very believable.\n",
    "    \n",
    "</div>"
   ]
  },
  {
   "cell_type": "code",
   "execution_count": 27,
   "id": "36be99e3-8b4d-408f-80e7-0ef235a377b3",
   "metadata": {
    "tags": []
   },
   "outputs": [
    {
     "name": "stdout",
     "output_type": "stream",
     "text": [
      "Diabetics - average: 100.34, min: 0.00, max: 846.00 \n",
      "Others    - average: 68.79, min: 0.00, max: 744.00"
     ]
    }
   ],
   "source": [
    "ins_dia = insulin(outcome == 1);\n",
    "ins_notDia = insulin(outcome == 0);\n",
    "\n",
    "ins_dia_avg = mean(ins_dia);\n",
    "ins_dia_min = min(ins_dia);\n",
    "ins_dia_max = max(ins_dia);\n",
    "\n",
    "ins_notDia_avg = mean(ins_notDia);\n",
    "ins_notDia_min = min(ins_notDia);\n",
    "ins_notDia_max = max(ins_notDia);\n",
    "\n",
    "fprintf('Diabetics - average: %.2f, min: %.2f, max: %.2f \\n', ins_dia_avg, ins_dia_min, ins_dia_max)\n",
    "fprintf('Others    - average: %.2f, min: %.2f, max: %.2f', ins_notDia_avg, ins_notDia_min, ins_notDia_max)\n"
   ]
  },
  {
   "cell_type": "code",
   "execution_count": 28,
   "id": "f269fa72-8705-4e01-b9ce-91c8e7829cfa",
   "metadata": {
    "tags": []
   },
   "outputs": [
    {
     "data": {
      "image/png": "[encoded data removed]"
     },
     "execution_count": 28,
     "metadata": {},
     "output_type": "execute_result"
    }
   ],
   "source": [
    "subplot(1,2,1)\n",
    "boxplot(ins_dia)\n",
    "title('Insulin - diabetics')\n",
    "subplot(1,2,2)\n",
    "boxplot(ins_notDia)\n",
    "title('Insulin - nondiabetics')"
   ]
  },
  {
   "cell_type": "markdown",
   "id": "f03d66ed-8619-464e-8732-fa6bbf3a640a",
   "metadata": {},
   "source": [
    "<div class=\"alert alert-block alert-info\"> \n",
    "\n",
    "We can see that: <br>\n",
    "    - minimum value of insulin in both groups is 0 - it is strange as I have noticed before <br>\n",
    "    - maximum is not very different in both groups, although in dia group is higher <br>\n",
    "    - the same is valid for minimum\n",
    "    \n",
    "</div>"
   ]
  }
 ],
 "metadata": {
  "kernelspec": {
   "display_name": "MATLAB Kernel",
   "language": "matlab",
   "name": "jupyter_matlab_kernel"
  },
  "language_info": {
   "file_extension": ".m",
   "mimetype": "text/x-matlab",
   "name": "matlab"
  }
 },
 "nbformat": 4,
 "nbformat_minor": 5
}
